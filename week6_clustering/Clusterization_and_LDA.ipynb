{
 "cells": [
  {
   "cell_type": "markdown",
   "metadata": {},
   "source": [
    "# <center> Clustering political regimes </center>\n",
    "\n",
    "![](data:image/jpeg;base64,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)\n",
    "\n",
    "* Do you recognize this man?"
   ]
  },
  {
   "cell_type": "markdown",
   "metadata": {},
   "source": [
    "### Data set\n",
    "\n",
    "We have a data set containing countries and different indicators, measuring the key parameters of Robert Dahl's theory that all countries can be classified into one of four types. We will try to apply it in practice and try to identify 4 clusters in the data on the political structure of countries. You can read more about the dataset at the [link](https://www3.nd.edu/~mcoppedg/crd/Codebook.doc)."
   ]
  },
  {
   "cell_type": "code",
   "execution_count": 1,
   "metadata": {},
   "outputs": [],
   "source": [
    "import pandas as pd\n",
    "import seaborn as sns"
   ]
  },
  {
   "cell_type": "code",
   "execution_count": 2,
   "metadata": {},
   "outputs": [
    {
     "data": {
      "text/html": [
       "<div>\n",
       "<style scoped>\n",
       "    .dataframe tbody tr th:only-of-type {\n",
       "        vertical-align: middle;\n",
       "    }\n",
       "\n",
       "    .dataframe tbody tr th {\n",
       "        vertical-align: top;\n",
       "    }\n",
       "\n",
       "    .dataframe thead th {\n",
       "        text-align: right;\n",
       "    }\n",
       "</style>\n",
       "<table border=\"1\" class=\"dataframe\">\n",
       "  <thead>\n",
       "    <tr style=\"text-align: right;\">\n",
       "      <th></th>\n",
       "      <th>cname</th>\n",
       "      <th>abbr</th>\n",
       "      <th>year</th>\n",
       "      <th>yr</th>\n",
       "      <th>CONTEST</th>\n",
       "      <th>INCLUS</th>\n",
       "      <th>CONTESTstd</th>\n",
       "      <th>INCLUSstd</th>\n",
       "      <th>ContestationA</th>\n",
       "      <th>INCLUSA</th>\n",
       "      <th>...</th>\n",
       "      <th>ALTINF</th>\n",
       "      <th>POLY</th>\n",
       "      <th>ccode</th>\n",
       "      <th>ccodecow</th>\n",
       "      <th>ccodealp</th>\n",
       "      <th>ccodewb</th>\n",
       "      <th>f1mean</th>\n",
       "      <th>f2mean</th>\n",
       "      <th>f1sd</th>\n",
       "      <th>f2sd</th>\n",
       "    </tr>\n",
       "  </thead>\n",
       "  <tbody>\n",
       "    <tr>\n",
       "      <th>0</th>\n",
       "      <td>Afghanistan</td>\n",
       "      <td>AFGN</td>\n",
       "      <td>1950</td>\n",
       "      <td>50</td>\n",
       "      <td>-1.150339342</td>\n",
       "      <td>-1.013598554</td>\n",
       "      <td>-1.011842735</td>\n",
       "      <td>-0.741150814</td>\n",
       "      <td>-1.150339342</td>\n",
       "      <td>-1.013598554</td>\n",
       "      <td>...</td>\n",
       "      <td></td>\n",
       "      <td></td>\n",
       "      <td>4</td>\n",
       "      <td>700</td>\n",
       "      <td>AFG</td>\n",
       "      <td>AFG</td>\n",
       "      <td>0.15</td>\n",
       "      <td>0.09</td>\n",
       "      <td>1.01</td>\n",
       "      <td>0.82</td>\n",
       "    </tr>\n",
       "    <tr>\n",
       "      <th>1</th>\n",
       "      <td>Afghanistan</td>\n",
       "      <td>AFGN</td>\n",
       "      <td>1951</td>\n",
       "      <td>51</td>\n",
       "      <td>-1.109144219</td>\n",
       "      <td>-0.956002727</td>\n",
       "      <td>-0.990235662</td>\n",
       "      <td>-0.790842427</td>\n",
       "      <td>-1.109144219</td>\n",
       "      <td>-0.956002727</td>\n",
       "      <td>...</td>\n",
       "      <td></td>\n",
       "      <td></td>\n",
       "      <td>4</td>\n",
       "      <td>700</td>\n",
       "      <td>AFG</td>\n",
       "      <td>AFG</td>\n",
       "      <td>0.13</td>\n",
       "      <td>0.06</td>\n",
       "      <td>1.01</td>\n",
       "      <td>0.89</td>\n",
       "    </tr>\n",
       "    <tr>\n",
       "      <th>2</th>\n",
       "      <td>Afghanistan</td>\n",
       "      <td>AFGN</td>\n",
       "      <td>1952</td>\n",
       "      <td>52</td>\n",
       "      <td>-1.106897206</td>\n",
       "      <td>-0.839698187</td>\n",
       "      <td>-1.011173094</td>\n",
       "      <td>-0.804507241</td>\n",
       "      <td>-1.106897206</td>\n",
       "      <td>-0.839698187</td>\n",
       "      <td>...</td>\n",
       "      <td></td>\n",
       "      <td></td>\n",
       "      <td>4</td>\n",
       "      <td>700</td>\n",
       "      <td>AFG</td>\n",
       "      <td>AFG</td>\n",
       "      <td>0.14</td>\n",
       "      <td>0.01</td>\n",
       "      <td>1.04</td>\n",
       "      <td>0.97</td>\n",
       "    </tr>\n",
       "    <tr>\n",
       "      <th>3</th>\n",
       "      <td>Afghanistan</td>\n",
       "      <td>AFGN</td>\n",
       "      <td>1953</td>\n",
       "      <td>53</td>\n",
       "      <td>-1.104317508</td>\n",
       "      <td>-0.675316224</td>\n",
       "      <td>-1.018490208</td>\n",
       "      <td>-0.547784602</td>\n",
       "      <td>-1.104317508</td>\n",
       "      <td>-0.675316224</td>\n",
       "      <td>...</td>\n",
       "      <td></td>\n",
       "      <td></td>\n",
       "      <td>4</td>\n",
       "      <td>700</td>\n",
       "      <td>AFG</td>\n",
       "      <td>AFG</td>\n",
       "      <td>0.13</td>\n",
       "      <td>0.06</td>\n",
       "      <td>1.04</td>\n",
       "      <td>0.90</td>\n",
       "    </tr>\n",
       "    <tr>\n",
       "      <th>4</th>\n",
       "      <td>Afghanistan</td>\n",
       "      <td>AFGN</td>\n",
       "      <td>1954</td>\n",
       "      <td>54</td>\n",
       "      <td>-1.107440167</td>\n",
       "      <td>-0.497937884</td>\n",
       "      <td>-1.061737774</td>\n",
       "      <td>-0.453082232</td>\n",
       "      <td>-1.107440167</td>\n",
       "      <td>-0.497937884</td>\n",
       "      <td>...</td>\n",
       "      <td></td>\n",
       "      <td></td>\n",
       "      <td>4</td>\n",
       "      <td>700</td>\n",
       "      <td>AFG</td>\n",
       "      <td>AFG</td>\n",
       "      <td>0.09</td>\n",
       "      <td>0.01</td>\n",
       "      <td>1.04</td>\n",
       "      <td>0.93</td>\n",
       "    </tr>\n",
       "  </tbody>\n",
       "</table>\n",
       "<p>5 rows × 28 columns</p>\n",
       "</div>"
      ],
      "text/plain": [
       "         cname  abbr  year  yr       CONTEST        INCLUS    CONTESTstd  \\\n",
       "0  Afghanistan  AFGN  1950  50  -1.150339342  -1.013598554  -1.011842735   \n",
       "1  Afghanistan  AFGN  1951  51  -1.109144219  -0.956002727  -0.990235662   \n",
       "2  Afghanistan  AFGN  1952  52  -1.106897206  -0.839698187  -1.011173094   \n",
       "3  Afghanistan  AFGN  1953  53  -1.104317508  -0.675316224  -1.018490208   \n",
       "4  Afghanistan  AFGN  1954  54  -1.107440167  -0.497937884  -1.061737774   \n",
       "\n",
       "      INCLUSstd ContestationA       INCLUSA  ... ALTINF POLY ccode ccodecow  \\\n",
       "0  -0.741150814  -1.150339342  -1.013598554  ...                 4      700   \n",
       "1  -0.790842427  -1.109144219  -0.956002727  ...                 4      700   \n",
       "2  -0.804507241  -1.106897206  -0.839698187  ...                 4      700   \n",
       "3  -0.547784602  -1.104317508  -0.675316224  ...                 4      700   \n",
       "4  -0.453082232  -1.107440167  -0.497937884  ...                 4      700   \n",
       "\n",
       "  ccodealp ccodewb f1mean f2mean  f1sd  f2sd  \n",
       "0      AFG     AFG   0.15   0.09  1.01  0.82  \n",
       "1      AFG     AFG   0.13   0.06  1.01  0.89  \n",
       "2      AFG     AFG   0.14   0.01  1.04  0.97  \n",
       "3      AFG     AFG   0.13   0.06  1.04  0.90  \n",
       "4      AFG     AFG   0.09   0.01  1.04  0.93  \n",
       "\n",
       "[5 rows x 28 columns]"
      ]
     },
     "execution_count": 2,
     "metadata": {},
     "output_type": "execute_result"
    }
   ],
   "source": [
    "data = pd.read_csv('DahlDims.csv')\n",
    "data.head()"
   ]
  },
  {
   "cell_type": "markdown",
   "metadata": {},
   "source": [
    "Our data set has 28 columns, but we will work with 2 of them. These are the CONTEST and INCLUS columns.\n",
    "We will build the distribution of countries by these parameters for a certain year, for example, for 2000.\n",
    "\n",
    "Let's save the data for the countries for 2000 separately."
   ]
  },
  {
   "cell_type": "code",
   "execution_count": 3,
   "metadata": {},
   "outputs": [],
   "source": [
    "year_2000_data = data[data.year == 2000]"
   ]
  },
  {
   "cell_type": "code",
   "execution_count": 6,
   "metadata": {},
   "outputs": [
    {
     "data": {
      "text/html": [
       "<div>\n",
       "<style scoped>\n",
       "    .dataframe tbody tr th:only-of-type {\n",
       "        vertical-align: middle;\n",
       "    }\n",
       "\n",
       "    .dataframe tbody tr th {\n",
       "        vertical-align: top;\n",
       "    }\n",
       "\n",
       "    .dataframe thead th {\n",
       "        text-align: right;\n",
       "    }\n",
       "</style>\n",
       "<table border=\"1\" class=\"dataframe\">\n",
       "  <thead>\n",
       "    <tr style=\"text-align: right;\">\n",
       "      <th></th>\n",
       "      <th>cname</th>\n",
       "      <th>abbr</th>\n",
       "      <th>year</th>\n",
       "      <th>yr</th>\n",
       "      <th>CONTEST</th>\n",
       "      <th>INCLUS</th>\n",
       "      <th>CONTESTstd</th>\n",
       "      <th>INCLUSstd</th>\n",
       "      <th>ContestationA</th>\n",
       "      <th>INCLUSA</th>\n",
       "      <th>...</th>\n",
       "      <th>ALTINF</th>\n",
       "      <th>POLY</th>\n",
       "      <th>ccode</th>\n",
       "      <th>ccodecow</th>\n",
       "      <th>ccodealp</th>\n",
       "      <th>ccodewb</th>\n",
       "      <th>f1mean</th>\n",
       "      <th>f2mean</th>\n",
       "      <th>f1sd</th>\n",
       "      <th>f2sd</th>\n",
       "    </tr>\n",
       "  </thead>\n",
       "  <tbody>\n",
       "    <tr>\n",
       "      <th>50</th>\n",
       "      <td>Afghanistan</td>\n",
       "      <td>AFGN</td>\n",
       "      <td>2000</td>\n",
       "      <td>2000</td>\n",
       "      <td>-1.860250763</td>\n",
       "      <td>-3.632547535</td>\n",
       "      <td>-1.177129448</td>\n",
       "      <td>-1.956969586</td>\n",
       "      <td></td>\n",
       "      <td></td>\n",
       "      <td>...</td>\n",
       "      <td></td>\n",
       "      <td></td>\n",
       "      <td>4</td>\n",
       "      <td>700</td>\n",
       "      <td>AFG</td>\n",
       "      <td>AFG</td>\n",
       "      <td>0.525</td>\n",
       "      <td>0.495</td>\n",
       "      <td>0.915</td>\n",
       "      <td>0.675</td>\n",
       "    </tr>\n",
       "    <tr>\n",
       "      <th>101</th>\n",
       "      <td>Albania</td>\n",
       "      <td>ALBN</td>\n",
       "      <td>2000</td>\n",
       "      <td>2000</td>\n",
       "      <td>-0.055792334</td>\n",
       "      <td>0.529475222</td>\n",
       "      <td>0.473950014</td>\n",
       "      <td>0.852395775</td>\n",
       "      <td></td>\n",
       "      <td></td>\n",
       "      <td>...</td>\n",
       "      <td></td>\n",
       "      <td></td>\n",
       "      <td>8</td>\n",
       "      <td>339</td>\n",
       "      <td>ALB</td>\n",
       "      <td>ALB</td>\n",
       "      <td>0.525</td>\n",
       "      <td>0.495</td>\n",
       "      <td>0.915</td>\n",
       "      <td>0.675</td>\n",
       "    </tr>\n",
       "    <tr>\n",
       "      <th>140</th>\n",
       "      <td>Algeria</td>\n",
       "      <td>ALGR</td>\n",
       "      <td>2000</td>\n",
       "      <td>2000</td>\n",
       "      <td>-1.021945168</td>\n",
       "      <td>0.513831312</td>\n",
       "      <td>-0.410079829</td>\n",
       "      <td>0.841836136</td>\n",
       "      <td></td>\n",
       "      <td></td>\n",
       "      <td>...</td>\n",
       "      <td></td>\n",
       "      <td></td>\n",
       "      <td>12</td>\n",
       "      <td>615</td>\n",
       "      <td>DZA</td>\n",
       "      <td>DZA</td>\n",
       "      <td>0.525</td>\n",
       "      <td>0.495</td>\n",
       "      <td>0.915</td>\n",
       "      <td>0.675</td>\n",
       "    </tr>\n",
       "    <tr>\n",
       "      <th>191</th>\n",
       "      <td>Andorra</td>\n",
       "      <td>ANDO</td>\n",
       "      <td>2000</td>\n",
       "      <td>2000</td>\n",
       "      <td>0.400964891</td>\n",
       "      <td>-0.173187886</td>\n",
       "      <td>0.891882876</td>\n",
       "      <td>0.378098177</td>\n",
       "      <td></td>\n",
       "      <td></td>\n",
       "      <td>...</td>\n",
       "      <td></td>\n",
       "      <td></td>\n",
       "      <td>20</td>\n",
       "      <td>232</td>\n",
       "      <td>AND</td>\n",
       "      <td>ADO</td>\n",
       "      <td>0.525</td>\n",
       "      <td>0.495</td>\n",
       "      <td>0.915</td>\n",
       "      <td>0.675</td>\n",
       "    </tr>\n",
       "    <tr>\n",
       "      <th>217</th>\n",
       "      <td>Angola</td>\n",
       "      <td>ANGL</td>\n",
       "      <td>2000</td>\n",
       "      <td>2000</td>\n",
       "      <td>-1.36415187</td>\n",
       "      <td>-0.021909254</td>\n",
       "      <td>-0.723198961</td>\n",
       "      <td>0.480211254</td>\n",
       "      <td></td>\n",
       "      <td></td>\n",
       "      <td>...</td>\n",
       "      <td></td>\n",
       "      <td></td>\n",
       "      <td>24</td>\n",
       "      <td>540</td>\n",
       "      <td>AGO</td>\n",
       "      <td>AGO</td>\n",
       "      <td>0.525</td>\n",
       "      <td>0.495</td>\n",
       "      <td>0.915</td>\n",
       "      <td>0.675</td>\n",
       "    </tr>\n",
       "  </tbody>\n",
       "</table>\n",
       "<p>5 rows × 28 columns</p>\n",
       "</div>"
      ],
      "text/plain": [
       "           cname  abbr  year    yr       CONTEST        INCLUS    CONTESTstd  \\\n",
       "50   Afghanistan  AFGN  2000  2000  -1.860250763  -3.632547535  -1.177129448   \n",
       "101      Albania  ALBN  2000  2000  -0.055792334   0.529475222   0.473950014   \n",
       "140      Algeria  ALGR  2000  2000  -1.021945168   0.513831312  -0.410079829   \n",
       "191      Andorra  ANDO  2000  2000   0.400964891  -0.173187886   0.891882876   \n",
       "217       Angola  ANGL  2000  2000   -1.36415187  -0.021909254  -0.723198961   \n",
       "\n",
       "        INCLUSstd ContestationA INCLUSA  ... ALTINF POLY ccode ccodecow  \\\n",
       "50   -1.956969586                        ...                 4      700   \n",
       "101   0.852395775                        ...                 8      339   \n",
       "140   0.841836136                        ...                12      615   \n",
       "191   0.378098177                        ...                20      232   \n",
       "217   0.480211254                        ...                24      540   \n",
       "\n",
       "    ccodealp ccodewb f1mean f2mean   f1sd   f2sd  \n",
       "50       AFG     AFG  0.525  0.495  0.915  0.675  \n",
       "101      ALB     ALB  0.525  0.495  0.915  0.675  \n",
       "140      DZA     DZA  0.525  0.495  0.915  0.675  \n",
       "191      AND     ADO  0.525  0.495  0.915  0.675  \n",
       "217      AGO     AGO  0.525  0.495  0.915  0.675  \n",
       "\n",
       "[5 rows x 28 columns]"
      ]
     },
     "execution_count": 6,
     "metadata": {},
     "output_type": "execute_result"
    }
   ],
   "source": [
    "year_2000_data.head()"
   ]
  },
  {
   "cell_type": "code",
   "execution_count": 7,
   "metadata": {},
   "outputs": [],
   "source": [
    "# How many countries are there in our sample?\n",
    "\n"
   ]
  },
  {
   "cell_type": "markdown",
   "metadata": {},
   "source": [
    "Let's build a graph of our countries for the year 2000. Let's convert from string to numerical"
   ]
  },
  {
   "cell_type": "code",
   "execution_count": 8,
   "metadata": {},
   "outputs": [
    {
     "name": "stdout",
     "output_type": "stream",
     "text": [
      "<class 'pandas.core.frame.DataFrame'>\n",
      "Int64Index: 192 entries, 50 to 7562\n",
      "Data columns (total 28 columns):\n",
      " #   Column         Non-Null Count  Dtype  \n",
      "---  ------         --------------  -----  \n",
      " 0   cname          192 non-null    object \n",
      " 1   abbr           192 non-null    object \n",
      " 2   year           192 non-null    int64  \n",
      " 3   yr             192 non-null    int64  \n",
      " 4   CONTEST        192 non-null    object \n",
      " 5   INCLUS         192 non-null    object \n",
      " 6   CONTESTstd     192 non-null    object \n",
      " 7   INCLUSstd      192 non-null    object \n",
      " 8   ContestationA  192 non-null    object \n",
      " 9   INCLUSA        192 non-null    object \n",
      " 10  CONTESTB       192 non-null    object \n",
      " 11  INCLUSB        192 non-null    object \n",
      " 12  CONTESTC       192 non-null    object \n",
      " 13  INCLUSC        192 non-null    object \n",
      " 14  CRSUFF         192 non-null    object \n",
      " 15  FAIRELT        192 non-null    object \n",
      " 16  FREEORG        192 non-null    object \n",
      " 17  FREXP          192 non-null    object \n",
      " 18  ALTINF         192 non-null    object \n",
      " 19  POLY           192 non-null    object \n",
      " 20  ccode          192 non-null    object \n",
      " 21  ccodecow       192 non-null    int64  \n",
      " 22  ccodealp       192 non-null    object \n",
      " 23  ccodewb        192 non-null    object \n",
      " 24  f1mean         192 non-null    float64\n",
      " 25  f2mean         192 non-null    float64\n",
      " 26  f1sd           192 non-null    float64\n",
      " 27  f2sd           192 non-null    float64\n",
      "dtypes: float64(4), int64(3), object(21)\n",
      "memory usage: 43.5+ KB\n"
     ]
    }
   ],
   "source": [
    "year_2000_data.info()"
   ]
  },
  {
   "cell_type": "code",
   "execution_count": 5,
   "metadata": {},
   "outputs": [],
   "source": [
    "x = pd.to_numeric(year_2000_data[\"INCLUS\"]).values\n",
    "y = pd.to_numeric(year_2000_data[\"CONTEST\"]).values"
   ]
  },
  {
   "cell_type": "markdown",
   "metadata": {},
   "source": [
    "We import the module for drawing and build a graph, where on the X axis we have the INCLUS column, and on the y - CONTEST. Additionally, let's plot lines through the origin."
   ]
  },
  {
   "cell_type": "code",
   "execution_count": 11,
   "metadata": {},
   "outputs": [
    {
     "name": "stdout",
     "output_type": "stream",
     "text": [
      "Requirement already satisfied: matplotlib in /opt/anaconda3/lib/python3.8/site-packages (3.3.1)\n",
      "Requirement already satisfied: cycler>=0.10 in /opt/anaconda3/lib/python3.8/site-packages (from matplotlib) (0.10.0)\n",
      "Requirement already satisfied: certifi>=2020.06.20 in /opt/anaconda3/lib/python3.8/site-packages (from matplotlib) (2020.6.20)\n",
      "Requirement already satisfied: python-dateutil>=2.1 in /opt/anaconda3/lib/python3.8/site-packages (from matplotlib) (2.8.1)\n",
      "Requirement already satisfied: pyparsing!=2.0.4,!=2.1.2,!=2.1.6,>=2.0.3 in /opt/anaconda3/lib/python3.8/site-packages (from matplotlib) (2.4.7)\n",
      "Requirement already satisfied: pillow>=6.2.0 in /opt/anaconda3/lib/python3.8/site-packages (from matplotlib) (7.2.0)\n",
      "Requirement already satisfied: kiwisolver>=1.0.1 in /opt/anaconda3/lib/python3.8/site-packages (from matplotlib) (1.2.0)\n",
      "Requirement already satisfied: numpy>=1.15 in /opt/anaconda3/lib/python3.8/site-packages (from matplotlib) (1.19.1)\n",
      "Requirement already satisfied: six in /opt/anaconda3/lib/python3.8/site-packages (from cycler>=0.10->matplotlib) (1.15.0)\n"
     ]
    }
   ],
   "source": [
    "!pip3 install matplotlib"
   ]
  },
  {
   "cell_type": "code",
   "execution_count": 12,
   "metadata": {},
   "outputs": [
    {
     "ename": "ModuleNotFoundError",
     "evalue": "No module named 'matplotlib'",
     "output_type": "error",
     "traceback": [
      "\u001b[0;31m---------------------------------------------------------------------------\u001b[0m",
      "\u001b[0;31mModuleNotFoundError\u001b[0m                       Traceback (most recent call last)",
      "\u001b[0;32m<ipython-input-12-d584daa327a0>\u001b[0m in \u001b[0;36m<module>\u001b[0;34m\u001b[0m\n\u001b[0;32m----> 1\u001b[0;31m \u001b[0;32mimport\u001b[0m \u001b[0mmatplotlib\u001b[0m\u001b[0;34m.\u001b[0m\u001b[0mpyplot\u001b[0m \u001b[0;32mas\u001b[0m \u001b[0mplt\u001b[0m\u001b[0;34m\u001b[0m\u001b[0;34m\u001b[0m\u001b[0m\n\u001b[0m\u001b[1;32m      2\u001b[0m \u001b[0mget_ipython\u001b[0m\u001b[0;34m(\u001b[0m\u001b[0;34m)\u001b[0m\u001b[0;34m.\u001b[0m\u001b[0mrun_line_magic\u001b[0m\u001b[0;34m(\u001b[0m\u001b[0;34m'matplotlib'\u001b[0m\u001b[0;34m,\u001b[0m \u001b[0;34m'inline'\u001b[0m\u001b[0;34m)\u001b[0m\u001b[0;34m\u001b[0m\u001b[0;34m\u001b[0m\u001b[0m\n\u001b[1;32m      3\u001b[0m \u001b[0;34m\u001b[0m\u001b[0m\n\u001b[1;32m      4\u001b[0m \u001b[0;34m\u001b[0m\u001b[0m\n\u001b[1;32m      5\u001b[0m \u001b[0mplt\u001b[0m\u001b[0;34m.\u001b[0m\u001b[0mfigure\u001b[0m\u001b[0;34m(\u001b[0m\u001b[0mfigsize\u001b[0m\u001b[0;34m=\u001b[0m\u001b[0;34m(\u001b[0m\u001b[0;36m12\u001b[0m\u001b[0;34m,\u001b[0m \u001b[0;36m8\u001b[0m\u001b[0;34m)\u001b[0m\u001b[0;34m)\u001b[0m\u001b[0;34m\u001b[0m\u001b[0;34m\u001b[0m\u001b[0m\n",
      "\u001b[0;31mModuleNotFoundError\u001b[0m: No module named 'matplotlib'"
     ]
    }
   ],
   "source": [
    "import matplotlib.pyplot as plt\n",
    "%matplotlib inline\n",
    "\n",
    "\n",
    "plt.figure(figsize=(12, 8))\n",
    "plt.scatter(x,y, s =7)\n",
    "plt.title('Year 2000')\n",
    "plt.xlabel('Inclusiveness')\n",
    "plt.ylabel('Contestation')\n",
    "plt.yticks((-3,-2,-1,0,1,2), (\"-3\",\"-2\",\"-1\",\"0\",\"1\",\"2\"))\n",
    "plt.xticks((-4,-2,0,2,4), (\"-4\",\"-2\",\"0\",\"2\",\"4\"))\n",
    "plt.axvline(x=0, linestyle='--', color = 'black', linewidth = 0.7)\n",
    "plt.axhline(y=0, linestyle='--', color = 'black', linewidth = 0.7)\n",
    "plt.show()"
   ]
  },
  {
   "cell_type": "markdown",
   "metadata": {},
   "source": [
    "![](data:image/png;base64,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)"
   ]
  },
  {
   "cell_type": "markdown",
   "metadata": {},
   "source": [
    "### Кластеризация с помощью KMeans\n",
    "\n",
    "Кластеризатор KMeans разбивает множество элементов векторного пространства на заранее известное число кластеров k. Он стремится минимизировать суммарное квадратичное отклонение точек кластеров от центров этих кластеров. Основная идея заключается в том, что на каждой итерации перевычисляется центр масс для каждого кластера, полученного на предыдущем шаге, затем векторы разбиваются на кластеры вновь в соответствии с тем, какой из новых центров оказался ближе по выбранной метрике.\n",
    "\n",
    "Алгоритм завершается, когда на какой-то итерации не происходит изменения внутрикластерного расстояния. Это происходит за конечное число итераций, так как количество возможных разбиений конечного множества конечно, а на каждом шаге суммарное квадратичное отклонение V уменьшается, поэтому зацикливание невозможно.\n",
    "\n",
    "Импортируем модуль KMeans из sklearn."
   ]
  },
  {
   "cell_type": "code",
   "execution_count": 12,
   "metadata": {},
   "outputs": [],
   "source": [
    "from sklearn.cluster import KMeans"
   ]
  },
  {
   "cell_type": "markdown",
   "metadata": {},
   "source": [
    "Вытащим данные для обучения, это только столбцы INCLUS и CONTEST."
   ]
  },
  {
   "cell_type": "code",
   "execution_count": 13,
   "metadata": {},
   "outputs": [],
   "source": [
    "X = year_2000_data[['INCLUS','CONTEST']]"
   ]
  },
  {
   "cell_type": "markdown",
   "metadata": {},
   "source": [
    "Изначально теоритически мы знаем, что в наших данных 4 кластера. Поэтому инициализируем KMeans с таким количеством кластеров, передав их в параметр n_clusters"
   ]
  },
  {
   "cell_type": "code",
   "execution_count": 14,
   "metadata": {},
   "outputs": [],
   "source": [
    "kmeans = KMeans(n_clusters = 4, random_state = 0)"
   ]
  },
  {
   "cell_type": "markdown",
   "metadata": {},
   "source": [
    "Теперь обучим кластерезатор на всех данных"
   ]
  },
  {
   "cell_type": "code",
   "execution_count": 15,
   "metadata": {},
   "outputs": [
    {
     "data": {
      "text/plain": [
       "KMeans(n_clusters=4, random_state=0)"
      ]
     },
     "execution_count": 15,
     "metadata": {},
     "output_type": "execute_result"
    }
   ],
   "source": [
    "kmeans.fit(X)"
   ]
  },
  {
   "cell_type": "markdown",
   "metadata": {},
   "source": [
    "Посмотрим как наши данные пометились."
   ]
  },
  {
   "cell_type": "code",
   "execution_count": 16,
   "metadata": {},
   "outputs": [
    {
     "data": {
      "text/plain": [
       "array([1, 3, 2, 3, 2, 3, 0, 3, 0, 0, 2, 3, 1, 3, 3, 2, 0, 3, 0, 2, 0, 3,\n",
       "       0, 0, 1, 3, 2, 1, 2, 2, 0, 3, 3, 2, 0, 2, 3, 1, 1, 2, 0, 3, 3, 2,\n",
       "       0, 0, 0, 3, 3, 0, 3, 2, 0, 2, 2, 0, 3, 2, 0, 0, 2, 2, 3, 0, 3, 0,\n",
       "       3, 3, 3, 2, 0, 3, 0, 0, 0, 3, 3, 2, 2, 0, 0, 0, 0, 0, 2, 2, 2, 3,\n",
       "       2, 0, 1, 2, 2, 0, 3, 3, 2, 1, 3, 0, 0, 3, 3, 3, 3, 3, 3, 3, 3, 2,\n",
       "       0, 0, 3, 0, 3, 0, 2, 3, 1, 3, 3, 3, 0, 0, 0, 3, 3, 0, 1, 1, 3, 0,\n",
       "       0, 3, 3, 3, 0, 0, 1, 0, 3, 1, 3, 3, 3, 1, 3, 3, 3, 3, 2, 0, 0, 3,\n",
       "       1, 0, 0, 3, 3, 3, 3, 2, 3, 2, 0, 0, 2, 0, 2, 3, 3, 3, 2, 1, 0, 2,\n",
       "       3, 2, 3, 2, 3, 1, 0, 0, 0, 2, 3, 3, 2, 2, 3, 2], dtype=int32)"
      ]
     },
     "execution_count": 16,
     "metadata": {},
     "output_type": "execute_result"
    }
   ],
   "source": [
    "kmeans.labels_"
   ]
  },
  {
   "cell_type": "markdown",
   "metadata": {},
   "source": [
    "Всем нашим данным были присвоены лейблы от 0 до 3.\n",
    "\n",
    "Создадим новый Датафрейм, в который поместим столбцы INCLUS, CONTEST и новый столбец Labels в котором мы будем хранить помеченные кластерезатором данные."
   ]
  },
  {
   "cell_type": "code",
   "execution_count": 17,
   "metadata": {},
   "outputs": [],
   "source": [
    "draw = pd.DataFrame({'INCLUS': x,\n",
    "                   'CONTEST': y,\n",
    "                   'Labels': kmeans.labels_})"
   ]
  },
  {
   "cell_type": "markdown",
   "metadata": {},
   "source": [
    "Теперь давайте построим тот же график что и в начале, но уже с окраской кластеров. Для этого используем seaborn."
   ]
  },
  {
   "cell_type": "code",
   "execution_count": 20,
   "metadata": {},
   "outputs": [
    {
     "name": "stderr",
     "output_type": "stream",
     "text": [
      "/opt/anaconda3/lib/python3.8/site-packages/seaborn/axisgrid.py:316: UserWarning: The `size` parameter has been renamed to `height`; please update your code.\n",
      "  warnings.warn(msg, UserWarning)\n"
     ]
    },
    {
     "data": {
      "image/png": "[encoded data removed]",
      "text/plain": [
       "<Figure size 402.375x360 with 1 Axes>"
      ]
     },
     "metadata": {
      "needs_background": "light"
     },
     "output_type": "display_data"
    }
   ],
   "source": [
    "sns.FacetGrid(draw, hue=\"Labels\", size=5).map(plt.scatter, \"INCLUS\", \"CONTEST\").add_legend()\n",
    "\n",
    "plt.title('K Means. Country Data Year 2000')\n",
    "plt.xlabel('Inclusiveness')\n",
    "plt.ylabel('Contestation')\n",
    "plt.yticks((-3,-2,-1,0,1,2), (\"-3\",\"-2\",\"-1\",\"0\",\"1\",\"2\"))\n",
    "plt.xticks((-4,-2,0,2,4), (\"-4\",\"-2\",\"0\",\"2\",\"4\"))\n",
    "plt.axvline(x=0, linestyle='--', color = 'black', linewidth = 0.7)\n",
    "plt.axhline(y=0, linestyle='--', color = 'black', linewidth = 0.7)\n",
    "plt.show()"
   ]
  },
  {
   "cell_type": "markdown",
   "metadata": {},
   "source": [
    "На рисунке отчетливо видно 4 кластера.\n",
    "\n",
    "### Как узнать количество кластеров?\n",
    "\n",
    "В нашем датасете, благодаря теории, которая стояла за ним, мы знали что у нас 4 кластера. Но что если количество кластеров нам не известно? Мы все же можем определить \"оптимальное\" количество кластеров и в этом нам опять поможет кластерезатор KMeans.\n",
    "\n",
    "Импортируем модуль для рисования"
   ]
  },
  {
   "cell_type": "code",
   "execution_count": 21,
   "metadata": {},
   "outputs": [],
   "source": [
    "import pylab as pl"
   ]
  },
  {
   "cell_type": "markdown",
   "metadata": {},
   "source": [
    "Будем пробовать брать разнное количество кластеров и смотреть как это будет влиять на score модели. Количество кластеров будет варьироваться от 1 до 20."
   ]
  },
  {
   "cell_type": "code",
   "execution_count": 22,
   "metadata": {},
   "outputs": [],
   "source": [
    "Nc = range(1, 20)"
   ]
  },
  {
   "cell_type": "markdown",
   "metadata": {},
   "source": [
    "Создадим список кластеризаторов Kmeans, с разным количеством предполагаемых кластеров"
   ]
  },
  {
   "cell_type": "code",
   "execution_count": 23,
   "metadata": {},
   "outputs": [],
   "source": [
    "kmeans = [KMeans(n_clusters=i) for i in Nc]"
   ]
  },
  {
   "cell_type": "markdown",
   "metadata": {},
   "source": [
    "Посчитаем теперь для каждого из них score."
   ]
  },
  {
   "cell_type": "code",
   "execution_count": 24,
   "metadata": {},
   "outputs": [],
   "source": [
    "score = [kmeans[i].fit(X).score(X) for i in range(len(kmeans))]"
   ]
  },
  {
   "cell_type": "markdown",
   "metadata": {},
   "source": [
    "А теперь посстроим график, так называемой Elbow curve"
   ]
  },
  {
   "cell_type": "code",
   "execution_count": 25,
   "metadata": {},
   "outputs": [
    {
     "data": {
      "image/png": "[encoded data removed]",
      "text/plain": [
       "<Figure size 432x288 with 1 Axes>"
      ]
     },
     "metadata": {
      "needs_background": "light"
     },
     "output_type": "display_data"
    }
   ],
   "source": [
    "pl.plot(Nc,score)\n",
    "pl.xlabel('Number of Clusters')\n",
    "pl.ylabel('Score')\n",
    "pl.title('Elbow Curve')\n",
    "pl.show()"
   ]
  },
  {
   "cell_type": "markdown",
   "metadata": {},
   "source": [
    "Оптимальное количество кластеров находится в месте перелома графика. У нас это происходит где-то в районе 3х кластеров. Давайте построим график для 2000 года уже с 3-я кластерами и посмотрим как будет выглядеть график."
   ]
  },
  {
   "cell_type": "code",
   "execution_count": 26,
   "metadata": {},
   "outputs": [
    {
     "name": "stderr",
     "output_type": "stream",
     "text": [
      "/opt/anaconda3/lib/python3.8/site-packages/seaborn/axisgrid.py:316: UserWarning: The `size` parameter has been renamed to `height`; please update your code.\n",
      "  warnings.warn(msg, UserWarning)\n"
     ]
    },
    {
     "data": {
      "image/png": "[encoded data removed]",
      "text/plain": [
       "<Figure size 474.375x432 with 1 Axes>"
      ]
     },
     "metadata": {
      "needs_background": "light"
     },
     "output_type": "display_data"
    }
   ],
   "source": [
    "kmeans_3 = KMeans(n_clusters=3, random_state=0).fit(X)\n",
    "\n",
    "draw_3 = pd.DataFrame({'INCLUS': x,\n",
    "                   'CONTEST': y,\n",
    "                   'Labels': kmeans_3.labels_})\n",
    "\n",
    "sns.FacetGrid(draw_3, hue=\"Labels\", size=6) \\\n",
    "   .map(plt.scatter, \"INCLUS\", \"CONTEST\") \\\n",
    "   .add_legend()\n",
    "\n",
    "plt.title('K Means 3. Country Data Year 2000')\n",
    "plt.xlabel('Inclusiveness')\n",
    "plt.ylabel('Contestation')\n",
    "plt.yticks((-3,-2,-1,0,1,2), (\"-3\",\"-2\",\"-1\",\"0\",\"1\",\"2\"))\n",
    "plt.xticks((-4,-2,0,2,4), (\"-4\",\"-2\",\"0\",\"2\",\"4\"))\n",
    "plt.axvline(x=0, linestyle='--', color = 'black', linewidth = 0.7)\n",
    "plt.axhline(y=0, linestyle='--', color = 'black', linewidth = 0.7)\n",
    "plt.show()"
   ]
  },
  {
   "cell_type": "markdown",
   "metadata": {},
   "source": [
    "Посмотрим как выглядели данные в 1950 году ( когда было записано первое наблюдение из нашего датасета). Проделаем все операции как и для данных 2000 года."
   ]
  },
  {
   "cell_type": "code",
   "execution_count": 27,
   "metadata": {},
   "outputs": [
    {
     "name": "stderr",
     "output_type": "stream",
     "text": [
      "/opt/anaconda3/lib/python3.8/site-packages/seaborn/axisgrid.py:316: UserWarning: The `size` parameter has been renamed to `height`; please update your code.\n",
      "  warnings.warn(msg, UserWarning)\n"
     ]
    },
    {
     "data": {
      "image/png": "[encoded data removed]",
      "text/plain": [
       "<Figure size 474.375x432 with 1 Axes>"
      ]
     },
     "metadata": {
      "needs_background": "light"
     },
     "output_type": "display_data"
    }
   ],
   "source": [
    "year_1950_data = data[data.year == 1950]\n",
    "x = pd.to_numeric(year_1950_data[\"INCLUS\"]).values\n",
    "y = pd.to_numeric(year_1950_data[\"CONTEST\"]).values\n",
    "X = year_1950_data[['INCLUS','CONTEST']]\n",
    "\n",
    "kmeans_1950 = KMeans(n_clusters=4, random_state=0).fit(X)\n",
    "\n",
    "draw_1950 = pd.DataFrame({'INCLUS': x,\n",
    "                   'CONTEST': y,\n",
    "                   'Labels': kmeans_1950.labels_})\n",
    "\n",
    "sns.FacetGrid(draw_1950, hue=\"Labels\", size=6) \\\n",
    "   .map(plt.scatter, \"INCLUS\", \"CONTEST\") \\\n",
    "   .add_legend()\n",
    "\n",
    "plt.title('K Means. Country Data Year 1950')\n",
    "plt.xlabel('Inclusiveness')\n",
    "plt.ylabel('Contestation')\n",
    "plt.yticks((-3,-2,-1,0,1,2), (\"-3\",\"-2\",\"-1\",\"0\",\"1\",\"2\"))\n",
    "plt.xticks((-4,-2,0,2,4), (\"-4\",\"-2\",\"0\",\"2\",\"4\"))\n",
    "plt.axvline(x=0, linestyle='--', color = 'black', linewidth = 0.7)\n",
    "plt.axhline(y=0, linestyle='--', color = 'black', linewidth = 0.7)\n",
    "plt.show()"
   ]
  },
  {
   "cell_type": "code",
   "execution_count": null,
   "metadata": {},
   "outputs": [],
   "source": []
  }
 ],
 "metadata": {
  "kernelspec": {
   "display_name": "Python 3",
   "language": "python",
   "name": "python3"
  },
  "language_info": {
   "codemirror_mode": {
    "name": "ipython",
    "version": 3
   },
   "file_extension": ".py",
   "mimetype": "text/x-python",
   "name": "python",
   "nbconvert_exporter": "python",
   "pygments_lexer": "ipython3",
   "version": "3.8.3"
  }
 },
 "nbformat": 4,
 "nbformat_minor": 2
}
