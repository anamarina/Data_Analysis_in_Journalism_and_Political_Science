{
 "cells": [
  {
   "cell_type": "markdown",
   "metadata": {
    "id": "CyO_GMIxDu_Y"
   },
   "source": [
    "![](https://encrypted-tbn0.gstatic.com/images?q=tbn%3AANd9GcTAjFK-jiwKiI_9SYealAxaMM-706vqrUAL8A&usqp=CAU)\n",
    "# <center> Text Analysis on Financial News </center>"
   ]
  },
  {
   "cell_type": "markdown",
   "metadata": {},
   "source": [
    "Authors: Alexander Andreevskiy, Marina Ananyeva"
   ]
  },
  {
   "cell_type": "markdown",
   "metadata": {},
   "source": [
    "This is the introduction to vanilla natural language processing (NLP). We will try to preprocess text data and to perform the first steps in sentiment analysis.  "
   ]
  },
  {
   "cell_type": "markdown",
   "metadata": {},
   "source": [
    "Today we will try the following methods:\n",
    "\n",
    "1. Converting text to uppercase/lowercase\n",
    "2. Word tokenization\n",
    "3. Sentence tokenization\n",
    "4. Lemmatize\n",
    "5. Stemming\n",
    "6. Spell Check\n",
    "7. Remove numbers\n",
    "8. Remove punctuation\n",
    "9. Delete stopwords"
   ]
  },
  {
   "cell_type": "code",
   "execution_count": null,
   "metadata": {
    "colab": {
     "base_uri": "https://localhost:8080/",
     "height": 938
    },
    "id": "jwozP96VyzUm",
    "outputId": "8f99fa67-b7a1-4b5c-b976-bc495a0a6652",
    "scrolled": true
   },
   "outputs": [],
   "source": [
    "!pip install newspaper3k\n",
    "!pip install wordcloud\n",
    "!pip install autocorrect"
   ]
  },
  {
   "cell_type": "code",
   "execution_count": 1,
   "metadata": {
    "id": "mBtplQJ_Cf04"
   },
   "outputs": [],
   "source": [
    "%load_ext autoreload\n",
    "%autoreload 2\n",
    "\n",
    "import pandas as pd\n",
    "import seaborn as sns\n",
    "import matplotlib.pyplot as plt\n",
    "%matplotlib inline\n",
    "import string"
   ]
  },
  {
   "cell_type": "code",
   "execution_count": 2,
   "metadata": {
    "id": "hogtrkLcy16f"
   },
   "outputs": [],
   "source": [
    "from newspaper import Article"
   ]
  },
  {
   "cell_type": "code",
   "execution_count": 3,
   "metadata": {
    "colab": {
     "base_uri": "https://localhost:8080/",
     "height": 85
    },
    "id": "v55bR0X7y6VL",
    "outputId": "79dc58f7-4836-4039-fe5d-6edd08048a7c"
   },
   "outputs": [
    {
     "name": "stderr",
     "output_type": "stream",
     "text": [
      "[nltk_data] Downloading package punkt to\n",
      "[nltk_data]     /Users/m.ananyeva/nltk_data...\n",
      "[nltk_data]   Package punkt is already up-to-date!\n",
      "[nltk_data] Downloading package vader_lexicon to\n",
      "[nltk_data]     /Users/m.ananyeva/nltk_data...\n",
      "[nltk_data]   Package vader_lexicon is already up-to-date!\n"
     ]
    },
    {
     "data": {
      "text/plain": [
       "True"
      ]
     },
     "execution_count": 3,
     "metadata": {},
     "output_type": "execute_result"
    }
   ],
   "source": [
    "import nltk\n",
    "nltk.download('punkt')\n",
    "nltk.download('vader_lexicon')"
   ]
  },
  {
   "cell_type": "markdown",
   "metadata": {
    "id": "pjZFJQZ6WY9B"
   },
   "source": [
    "### Exploring the data"
   ]
  },
  {
   "cell_type": "markdown",
   "metadata": {
    "id": "GR9cK99D044w"
   },
   "source": [
    "We begin by parsing article from *Seeking Alpha*, popular financial website."
   ]
  },
  {
   "cell_type": "markdown",
   "metadata": {
    "id": "7BGJtrnL73wt"
   },
   "source": [
    "If parsing causes errors, reload Colab (or your Jupyter notebook) and try again."
   ]
  },
  {
   "cell_type": "code",
   "execution_count": 4,
   "metadata": {
    "id": "qHWJqG2vbdm-"
   },
   "outputs": [],
   "source": [
    "article = Article('https://seekingalpha.com/article/4377885-apples-5g-iphone-delay-may-send-stock-lower')"
   ]
  },
  {
   "cell_type": "code",
   "execution_count": 5,
   "metadata": {
    "id": "QTfBl7Mr01Te"
   },
   "outputs": [],
   "source": [
    "article.download()\n",
    "article.parse()"
   ]
  },
  {
   "cell_type": "markdown",
   "metadata": {
    "id": "WJZFtT9F1OWc"
   },
   "source": [
    "Let's look into the description of the article"
   ]
  },
  {
   "cell_type": "code",
   "execution_count": 6,
   "metadata": {
    "colab": {
     "base_uri": "https://localhost:8080/",
     "height": 35
    },
    "id": "BYsAAt5_FOjk",
    "outputId": "92dc7756-cc59-45b0-a90d-65658e1c5e14"
   },
   "outputs": [
    {
     "data": {
      "text/plain": [
       "\"Apple's 5G iPhone Delay May Send The Stock Lower (NASDAQ:AAPL)\""
      ]
     },
     "execution_count": 6,
     "metadata": {},
     "output_type": "execute_result"
    }
   ],
   "source": [
    "article.title"
   ]
  },
  {
   "cell_type": "code",
   "execution_count": 7,
   "metadata": {
    "colab": {
     "base_uri": "https://localhost:8080/",
     "height": 34
    },
    "id": "OEucgonP03uu",
    "outputId": "b8123bca-d1b6-4ca1-d31c-c716d7f5bf18"
   },
   "outputs": [
    {
     "data": {
      "text/plain": [
       "['Mott Capital Management']"
      ]
     },
     "execution_count": 7,
     "metadata": {},
     "output_type": "execute_result"
    }
   ],
   "source": [
    "article.authors"
   ]
  },
  {
   "cell_type": "code",
   "execution_count": 8,
   "metadata": {
    "colab": {
     "base_uri": "https://localhost:8080/",
     "height": 51
    },
    "id": "3f5jVxhP1UMM",
    "outputId": "3af2a8ef-b61a-4234-a2e1-fa59f07065f9"
   },
   "outputs": [
    {
     "name": "stdout",
     "output_type": "stream",
     "text": [
      "2020-10-06 21:07:20+00:00\n",
      "<class 'datetime.datetime'>\n"
     ]
    }
   ],
   "source": [
    "date = article.publish_date\n",
    "print(date)\n",
    "print(type(date))"
   ]
  },
  {
   "cell_type": "markdown",
   "metadata": {
    "id": "0MONspCA6uXm"
   },
   "source": [
    "Do you remember how to convert datetime to string?"
   ]
  },
  {
   "cell_type": "code",
   "execution_count": 9,
   "metadata": {
    "colab": {
     "base_uri": "https://localhost:8080/",
     "height": 35
    },
    "id": "MgxlkYiF70BD",
    "outputId": "55b0a79f-7e10-45e1-b750-9e6776bdffc9"
   },
   "outputs": [
    {
     "data": {
      "text/plain": [
       "'2020-10-06'"
      ]
     },
     "execution_count": 9,
     "metadata": {},
     "output_type": "execute_result"
    }
   ],
   "source": [
    "date.strftime('%Y-%m-%d')"
   ]
  },
  {
   "cell_type": "markdown",
   "metadata": {
    "id": "LhKI-cjY705a"
   },
   "source": [
    "Extract text from the article:"
   ]
  },
  {
   "cell_type": "code",
   "execution_count": 10,
   "metadata": {
    "colab": {
     "base_uri": "https://localhost:8080/",
     "height": 190
    },
    "id": "E1hUW5Xp1csj",
    "outputId": "42088b36-0123-4afd-fb31-dbdf4f7263b7"
   },
   "outputs": [
    {
     "data": {
      "text/plain": [
       "\"Apple (AAPL) stock has fallen about 15% from its recent highs. However, the stock may be at risk of dropping further. There are plenty of catalysts that could trigger such a drop, with earnings at the end of October and a continued delay in launching its 5G iPhone, although it appears the company will host an event on Oct. 13. Analysts are estimating significant earnings growth for the company in its fiscal first quarter. However, if the new iPhone fails to launch in time, those first quarter estimates may be too high. It's a significant risk for the stock, given that its valuation is historically high due to massive expectations.\\n\\nIt could be one reason why options traders are betting that the stock declines in the weeks ahead. Meanwhile, the technical chart shows Apple's struggles and suggests that the shares fall significantly from its current price. You can track all of my articles on Seeking Alpha on this Google spreadsheet.\\n\\nEstimates May Need To Come Down\\n\\nCurrently, analysts see earnings falling by about 7.7% in the fiscal fourth quarter to $0.70 per share. Meanwhile, revenue is expected to remain flat at around $63.5 billion. The immense growth is forecast to come when the company gives its fiscal first quarter guidance. Currently, estimates are for earnings to climb by about 9.5% to $1.37 per share, on revenue growth of almost 10% to $101 billion. However, with the iPhone's launch still not determined, those estimates may need to come down for the quarter or potentially shift out to a later point in the year.\\n\\nDespite the uncertainty, the stock is currently trading at a very high earnings multiple—nearly 31 times 2021 earnings estimates. This is vs. historical levels of around 15. Starting in 2019, due to the growth of its predictable services business, the stock began to receive a higher valuation of closer to 20. However, the current valuation is still well above the 2019 multiple re-rating.\\n\\nBetting Shares Drop\\n\\nThis high valuation and uncertainty surrounding the iPhone could be one reason why some options traders are betting that Apple's stock falls by the time November rolls around. On Oct. 6, the open interest levels for the Apple $115.00 puts rose by about 16,600 contracts. The data shows that the puts were traded on the ask and bought for about $8.80 per contract. It implies that the stock is trading below $106.00 by the expiration date in the middle of December.\\n\\nAdditionally, on Oct. 5, the November $120.00 puts saw their open interest levels rise by about 20,000 contracts. Those puts were bought for about $11 per contract and suggest the stock is trading below $109 in the middle of November.\\n\\n(Trade Alert)\\n\\nTechnical Weakness\\n\\nFrom a technical standpoint, Apple has been struggling to advance, stuck around $115 to $116, acting as a healthy level of technical resistance. The stock also has formed a bearish pattern known as a rising wedge, which suggests it falls back to around a price of $104.00. However, should the stock fall below $104, it could likely drop to approximately $96, allowing it to fill a technical gap from the end of July. However, if the stock manages to move above resistance at $116, it's likely to climb back to its previous all-time highs.\\n\\nThere's still plenty of things to like about Apple over the long term, such as a strong services and wearable business. However, should there be a delay in the launch of the 5G iPhone, or it does not go as smoothly as some investors had hoped, it could be a significant weight, dragging the stock in the future.\\n\\nLove this article? Then hit the follow button at the top of the story! Let The Market Be Your Guide Finding the next big move in the market is never easy, so let us help you determine what that move will be. Every day, Reading The Market uses changes in fundamentals, technicals, and options markets to determine the next significant move in stocks, sectors, and indexes. To Find Out More Visit Our Home Page\\n\\nDisclosure: I am/we are long AAPL. I wrote this article myself, and it expresses my own opinions. I am not receiving compensation for it (other than from Seeking Alpha). I have no business relationship with any company whose stock is mentioned in this article.\\n\\nAdditional disclosure: Mott Capital Management, LLC is a registered investment adviser. Information presented is for educational purposes only and does not intend to make an offer or solicitation for the sale or purchase of any specific securities, investments, or investment strategies. Investments involve risk and, unless otherwise stated, are not guaranteed. Be sure to first consult with a qualified financial adviser and/or tax professional before implementing any strategy discussed herein. Upon request, the advisor will provide a list of all recommendations made during the past twelve months. Past performance is not indicative of future results.\""
      ]
     },
     "execution_count": 10,
     "metadata": {},
     "output_type": "execute_result"
    }
   ],
   "source": [
    "article.text"
   ]
  },
  {
   "cell_type": "code",
   "execution_count": 11,
   "metadata": {
    "colab": {
     "base_uri": "https://localhost:8080/",
     "height": 171
    },
    "id": "Nta-x-9fLIq8",
    "outputId": "7acc765a-2b7f-4f83-9472-81e11b27a91f"
   },
   "outputs": [
    {
     "data": {
      "text/plain": [
       "\"Apple (AAPL) stock has fallen about 15% from its recent highs. However, the stock may be at risk of dropping further. There are plenty of catalysts that could trigger such a drop, with earnings at the end of October and a continued delay in launching its 5G iPhone, although it appears the company will host an event on Oct. 13. Analysts are estimating significant earnings growth for the company in its fiscal first quarter. However, if the new iPhone fails to launch in time, those first quarter estimates may be too high. It's a significant risk for the stock, given that its valuation is historically high due to massive expectations.\\n\\nIt could be one reason why options traders are betting that the stock declines in the weeks ahead. Meanwhile, the technical chart shows Apple's struggles and suggests that the shares fall significantly from its current price. You can track all of my articles on Seeking Alpha on this Google spreadsheet.\\n\\nEstimates May Need To Come Down\\n\\nCurrently, analysts see earnings falling by about 7.7% in the fiscal fourth quarter to $0.70 per share. Meanwhile, revenue is expected to remain flat at around $63.5 billion. The immense growth is forecast to come when the company gives its fiscal first quarter guidance. Currently, estimates are for earnings to climb by about 9.5% to $1.37 per share, on revenue growth of almost 10% to $101 billion. However, with the iPhone's launch still not determined, those estimates may need to come down for the quarter or potentially shift out to a later point in the year.\\n\\nDespite the uncertainty, the stock is currently trading at a very high earnings multiple—nearly 31 times 2021 earnings estimates. This is vs. historical levels of around 15. Starting in 2019, due to the growth of its predictable services business, the stock began to receive a higher valuation of closer to 20. However, the current valuation is still well above the 2019 multiple re-rating.\\n\\nBetting Shares Drop\\n\\nThis high valuation and uncertainty surrounding the iPhone could be one reason why some options traders are betting that Apple's stock falls by the time November rolls around. On Oct. 6, the open interest levels for the Apple $115.00 puts rose by about 16,600 contracts. The data shows that the puts were traded on the ask and bought for about $8.80 per contract. It implies that the stock is trading below $106.00 by the expiration date in the middle of December.\\n\\nAdditionally, on Oct. 5, the November $120.00 puts saw their open interest levels rise by about 20,000 contracts. Those puts were bought for about $11 per contract and suggest the stock is trading below $109 in the middle of November.\\n\\n(Trade Alert)\\n\\nTechnical Weakness\\n\\nFrom a technical standpoint, Apple has been struggling to advance, stuck around $115 to $116, acting as a healthy level of technical resistance. The stock also has formed a bearish pattern known as a rising wedge, which suggests it falls back to around a price of $104.00. However, should the stock fall below $104, it could likely drop to approximately $96, allowing it to fill a technical gap from the end of July. However, if the stock manages to move above resistance at $116, it's likely to climb back to its previous all-time highs.\\n\\nThere's still plenty of things to like about Apple over the long term, such as a strong services and wearable business. However, should there be a delay in the launch of the 5G iPhone, or it does not go as smoothly as some investors had hoped, it could be a significant weight, dragging the stock in the future.\\n\\nLove this article? Then hit the follow button at the top of the story! Let The Market Be Your Guide Finding the next big move in the market is never easy, so let us help you determine what that move will be. Every day, Reading The Market uses changes in fundamentals, technicals, and options markets to determine the next significant move in stocks, sectors, and indexes. To Find Out More Visit Our Home Page\\n\\nDisclosure: I am/we are long AAPL. I wrote this article myself, and it expresses my own opinions. I am not receiving compensation for it (other than from Seeking Alpha). I have no business relationship with any company whose stock is mentioned in this article.\\n\\nAdditional disclosure: Mott Capital Management, LLC is a registered investment adviser. Information presented is for educational purposes only and does not intend to make an offer or solicitation for the sale or purchase of any specific securities, investments, or investment strategies. Investments involve risk and, unless otherwise stated, are not guaranteed. Be sure to first consult with a qualified financial adviser and/or tax professional before implementing any strategy discussed herein. Upon request, the advisor will provide a list of all recommendations made during the past twelve months. Past performance is not indicative of future results.\""
      ]
     },
     "execution_count": 11,
     "metadata": {},
     "output_type": "execute_result"
    }
   ],
   "source": [
    "data = article.text\n",
    "data"
   ]
  },
  {
   "cell_type": "code",
   "execution_count": 12,
   "metadata": {
    "colab": {
     "base_uri": "https://localhost:8080/",
     "height": 34
    },
    "id": "W2J1sNFo1h3h",
    "outputId": "a46fd5bc-426e-4c11-e251-017adc94805a"
   },
   "outputs": [
    {
     "data": {
      "text/plain": [
       "4877"
      ]
     },
     "execution_count": 12,
     "metadata": {},
     "output_type": "execute_result"
    }
   ],
   "source": [
    "len(article.text)"
   ]
  },
  {
   "cell_type": "markdown",
   "metadata": {
    "id": "JVoGXm9n1os0"
   },
   "source": [
    "We can also extract some high-level information about the text with the help of nlp() method:"
   ]
  },
  {
   "cell_type": "code",
   "execution_count": 13,
   "metadata": {
    "id": "6pjLZ-mQ1kFE"
   },
   "outputs": [],
   "source": [
    "article.nlp()"
   ]
  },
  {
   "cell_type": "markdown",
   "metadata": {
    "id": "A18DMom_1-JM"
   },
   "source": [
    "Brief summary of the article:"
   ]
  },
  {
   "cell_type": "code",
   "execution_count": 14,
   "metadata": {
    "colab": {
     "base_uri": "https://localhost:8080/",
     "height": 122
    },
    "id": "ROj2fg7110Wn",
    "outputId": "5239bafd-4415-4035-f6dc-4ab2351fc93b"
   },
   "outputs": [
    {
     "name": "stdout",
     "output_type": "stream",
     "text": [
      "Analysts are estimating significant earnings growth for the company in its fiscal first quarter.\n",
      "However, if the new iPhone fails to launch in time, those first quarter estimates may be too high.\n",
      "It's a significant risk for the stock, given that its valuation is historically high due to massive expectations.\n",
      "Despite the uncertainty, the stock is currently trading at a very high earnings multiple—nearly 31 times 2021 earnings estimates.\n",
      "Betting Shares DropThis high valuation and uncertainty surrounding the iPhone could be one reason why some options traders are betting that Apple's stock falls by the time November rolls around.\n"
     ]
    }
   ],
   "source": [
    "summary = article.summary\n",
    "print(summary, sep='\\n')"
   ]
  },
  {
   "cell_type": "markdown",
   "metadata": {
    "id": "LocPG4UY2a6v"
   },
   "source": [
    "Keywords of the article:"
   ]
  },
  {
   "cell_type": "code",
   "execution_count": 15,
   "metadata": {
    "colab": {
     "base_uri": "https://localhost:8080/",
     "height": 289
    },
    "id": "RREM_GOU2Ycm",
    "outputId": "43a21dd4-0445-4817-fd87-02d0aadc84b4"
   },
   "outputs": [
    {
     "name": "stdout",
     "output_type": "stream",
     "text": [
      "earnings\n",
      "high\n",
      "quarter\n",
      "stock\n",
      "apples\n",
      "send\n",
      "nasdaqaapl\n",
      "technical\n",
      "significant\n",
      "valuation\n",
      "5g\n",
      "puts\n",
      "lower\n",
      "delay\n",
      "growth\n",
      "iphone\n"
     ]
    }
   ],
   "source": [
    "keywords = article.keywords\n",
    "print(*keywords, sep='\\n')"
   ]
  },
  {
   "cell_type": "markdown",
   "metadata": {
    "id": "ARAPKgNIjLR6"
   },
   "source": [
    "### NLP pipeline"
   ]
  },
  {
   "cell_type": "markdown",
   "metadata": {
    "id": "_hyaZKZG4LPY"
   },
   "source": [
    "Next we will go through the standard procedure of text analysis and visualise our data. "
   ]
  },
  {
   "cell_type": "markdown",
   "metadata": {
    "id": "QPBO7mBBI7tR"
   },
   "source": [
    "We begin by **pre-processing our text**:\n",
    "\n",
    "\n",
    "*   convert sentences to lowercase, remove digits and punctuation\n",
    "*   tokenize text (split sentences into words)\n",
    "*   delete stop-words (\"noisy\" words which don't convey useful information)\n",
    "*   perform lemmatising (extraction of lemma - morphological basis of the word)."
   ]
  },
  {
   "cell_type": "markdown",
   "metadata": {
    "id": "B5ztc_USMU8x"
   },
   "source": [
    "Let's do it step-by-step:"
   ]
  },
  {
   "cell_type": "code",
   "execution_count": 16,
   "metadata": {
    "id": "SadSoCRbWbOS"
   },
   "outputs": [],
   "source": [
    "data = article.text"
   ]
  },
  {
   "cell_type": "markdown",
   "metadata": {},
   "source": [
    "We usually remove numbers when we do text clustering or getting keyphrases as we numbers doesn’t give much importance to get the main words. "
   ]
  },
  {
   "cell_type": "code",
   "execution_count": 17,
   "metadata": {
    "colab": {
     "base_uri": "https://localhost:8080/",
     "height": 171
    },
    "id": "XfI349j1j5e-",
    "outputId": "c3d8f2fc-3730-431e-c31e-fb78feb9b450"
   },
   "outputs": [],
   "source": [
    "# convert sentences to lowercase, remove digits and punctuation\n",
    "# isnumeric()\n",
    "data = \"\".join([i for i in list(data) if (not i.isdigit() and i not in string.punctuation)]).lower()\n",
    "#data"
   ]
  },
  {
   "cell_type": "code",
   "execution_count": 18,
   "metadata": {
    "id": "5lBF6KPA_GB4"
   },
   "outputs": [],
   "source": [
    "from nltk.tokenize import WordPunctTokenizer\n",
    "tkz = WordPunctTokenizer()"
   ]
  },
  {
   "cell_type": "markdown",
   "metadata": {},
   "source": [
    "Tokenize words to get the tokens of the text. It breaks the sentences into list of words."
   ]
  },
  {
   "cell_type": "code",
   "execution_count": 19,
   "metadata": {
    "id": "3qdX9mn5kOPs"
   },
   "outputs": [],
   "source": [
    "# split string into paragraphs\n",
    "data = data.split('\\n\\n') \n",
    "# tokenize each paragraph\n",
    "data = [tkz.tokenize(x) for x in data]\n",
    "# data"
   ]
  },
  {
   "cell_type": "code",
   "execution_count": null,
   "metadata": {},
   "outputs": [],
   "source": [
    "# Task\n",
    "# How we could split it into sentences?"
   ]
  },
  {
   "cell_type": "code",
   "execution_count": 20,
   "metadata": {},
   "outputs": [
    {
     "name": "stdout",
     "output_type": "stream",
     "text": [
      "['Let', \"'s\", 'divide', 'this', 'string', 'into', 'words', '.', 'It', 'is', 'easy']\n"
     ]
    }
   ],
   "source": [
    "# using nltk\n",
    "word_tokens = nltk.word_tokenize(\"Let's divide this string into words. It is easy\")\n",
    "print(word_tokens)"
   ]
  },
  {
   "cell_type": "markdown",
   "metadata": {},
   "source": [
    "If there are more than one sentence, split it. It means breaking the sentences to a list of strings."
   ]
  },
  {
   "cell_type": "code",
   "execution_count": 22,
   "metadata": {},
   "outputs": [
    {
     "name": "stdout",
     "output_type": "stream",
     "text": [
      "[\"Let's divide this string into sentences.\", 'It is easy too!']\n"
     ]
    }
   ],
   "source": [
    "sent_tokens = nltk.sent_tokenize(\"Let's divide this string into sentences. It is easy too!\")\n",
    "print(sent_tokens)"
   ]
  },
  {
   "cell_type": "code",
   "execution_count": 23,
   "metadata": {
    "colab": {
     "base_uri": "https://localhost:8080/",
     "height": 51
    },
    "id": "mT6bi5D_NOyt",
    "outputId": "f23b7d97-0f42-4414-fcbc-de7c1a688440"
   },
   "outputs": [
    {
     "name": "stderr",
     "output_type": "stream",
     "text": [
      "[nltk_data] Downloading package stopwords to\n",
      "[nltk_data]     /Users/m.ananyeva/nltk_data...\n",
      "[nltk_data]   Package stopwords is already up-to-date!\n"
     ]
    }
   ],
   "source": [
    "# remove stop-words\n",
    "nltk.download('stopwords')\n",
    "from nltk.corpus import stopwords"
   ]
  },
  {
   "cell_type": "code",
   "execution_count": 24,
   "metadata": {
    "colab": {
     "base_uri": "https://localhost:8080/",
     "height": 272
    },
    "id": "voXFBcTRQKjt",
    "outputId": "4f5f10b6-dcd1-4936-a2c0-799237052e36"
   },
   "outputs": [
    {
     "data": {
      "text/plain": [
       "['i',\n",
       " 'me',\n",
       " 'my',\n",
       " 'myself',\n",
       " 'we',\n",
       " 'our',\n",
       " 'ours',\n",
       " 'ourselves',\n",
       " 'you',\n",
       " \"you're\",\n",
       " \"you've\",\n",
       " \"you'll\",\n",
       " \"you'd\",\n",
       " 'your',\n",
       " 'yours']"
      ]
     },
     "execution_count": 24,
     "metadata": {},
     "output_type": "execute_result"
    }
   ],
   "source": [
    "# take a quick-look at stop-words\n",
    "stopwords.words('english')[:15]"
   ]
  },
  {
   "cell_type": "code",
   "execution_count": 25,
   "metadata": {
    "id": "yphMIsK7QgMv"
   },
   "outputs": [],
   "source": [
    "# remove stop_words \n",
    "stop_words = set(stopwords.words('english'))\n",
    "for i in range(len(data)):\n",
    "    data[i] = [x for x in data[i] if x not in stop_words]\n",
    "\n",
    "# data"
   ]
  },
  {
   "cell_type": "markdown",
   "metadata": {},
   "source": [
    "Stemming and Lemmatization both generate the root form of the inflected words. The difference is that stem might not be an actual word whereas, lemma is an actual language word. "
   ]
  },
  {
   "cell_type": "code",
   "execution_count": 26,
   "metadata": {
    "colab": {
     "base_uri": "https://localhost:8080/",
     "height": 51
    },
    "id": "9ToAVDIilNUK",
    "outputId": "2ca0f479-1af6-4d2c-e8a4-d5966d69d28d"
   },
   "outputs": [
    {
     "name": "stderr",
     "output_type": "stream",
     "text": [
      "[nltk_data] Downloading package wordnet to\n",
      "[nltk_data]     /Users/m.ananyeva/nltk_data...\n",
      "[nltk_data]   Package wordnet is already up-to-date!\n"
     ]
    }
   ],
   "source": [
    "# lemmatize\n",
    "from nltk.stem import WordNetLemmatizer\n",
    "nltk.download('wordnet')\n",
    "  \n",
    "lmt = WordNetLemmatizer() "
   ]
  },
  {
   "cell_type": "markdown",
   "metadata": {
    "id": "T2c7kovJnK1G"
   },
   "source": [
    "Some examples of lemmatization:"
   ]
  },
  {
   "cell_type": "code",
   "execution_count": 27,
   "metadata": {
    "colab": {
     "base_uri": "https://localhost:8080/",
     "height": 51
    },
    "id": "N9bZUzYsnOQB",
    "outputId": "2758dea2-c384-4dc6-e416-d0853371ee89"
   },
   "outputs": [
    {
     "name": "stdout",
     "output_type": "stream",
     "text": [
      "companies -> company\n",
      "worse -> bad\n"
     ]
    }
   ],
   "source": [
    "print(\"companies ->\", lmt.lemmatize(\"companies\")) \n",
    "print(\"worse ->\", lmt.lemmatize(\"worse\", pos='a')) # pos='a' means that we want adjective as the output "
   ]
  },
  {
   "cell_type": "code",
   "execution_count": 28,
   "metadata": {
    "id": "pKdyYvh-pA2J"
   },
   "outputs": [],
   "source": [
    "# lemmatize our data\n",
    "for i in range(len(data)):\n",
    "    data[i] = [lmt.lemmatize(x) for x in data[i]]"
   ]
  },
  {
   "cell_type": "code",
   "execution_count": 30,
   "metadata": {},
   "outputs": [
    {
     "name": "stdout",
     "output_type": "stream",
     "text": [
      "cat\n",
      "troubl\n",
      "troubl\n",
      "troubl\n",
      "cat\n",
      "trouble\n",
      "troubling\n",
      "troubled\n"
     ]
    }
   ],
   "source": [
    "# difference with stamming\n",
    "\n",
    "from nltk.stem import PorterStemmer\n",
    "\n",
    "porter = PorterStemmer()\n",
    "print(porter.stem(\"cats\"))\n",
    "print(porter.stem(\"troubles\"))\n",
    "print(porter.stem(\"troubling\"))\n",
    "print(porter.stem(\"troubled\"))\n",
    "\n",
    "print(lmt.lemmatize(\"cats\"))\n",
    "print(lmt.lemmatize(\"troubles\"))\n",
    "print(lmt.lemmatize(\"troubling\"))\n",
    "print(lmt.lemmatize(\"troubled\"))"
   ]
  },
  {
   "cell_type": "markdown",
   "metadata": {},
   "source": [
    "Spell check:"
   ]
  },
  {
   "cell_type": "code",
   "execution_count": 35,
   "metadata": {},
   "outputs": [
    {
     "name": "stdout",
     "output_type": "stream",
     "text": [
      "['This', 'is', 'a', 'world', 'of', 'hope']\n"
     ]
    }
   ],
   "source": [
    "from autocorrect import Speller\n",
    "speller = Speller()\n",
    "text = \"This is a wrld of hope\"\n",
    "spells = [speller(w) for w in (nltk.word_tokenize(text))]\n",
    "print(spells)"
   ]
  },
  {
   "cell_type": "code",
   "execution_count": 36,
   "metadata": {},
   "outputs": [
    {
     "data": {
      "text/plain": [
       "'beautiful'"
      ]
     },
     "execution_count": 36,
     "metadata": {},
     "output_type": "execute_result"
    }
   ],
   "source": [
    "speller('beutifl')"
   ]
  },
  {
   "cell_type": "markdown",
   "metadata": {},
   "source": [
    "Regular expressions:"
   ]
  },
  {
   "cell_type": "code",
   "execution_count": 37,
   "metadata": {},
   "outputs": [
    {
     "name": "stdout",
     "output_type": "stream",
     "text": [
      "clean text \n"
     ]
    }
   ],
   "source": [
    "import re\n",
    "\n",
    "text = \"\"\"409clean 6text 34\"\"\"\n",
    "cleaned_text = re.sub('\\d','', text)\n",
    "print (cleaned_text)"
   ]
  },
  {
   "cell_type": "markdown",
   "metadata": {
    "id": "2AzaGX7Rz_FH"
   },
   "source": [
    "Now our text is pre-processed and ready for the next step."
   ]
  },
  {
   "cell_type": "markdown",
   "metadata": {
    "id": "6VKARMQOpUQ2"
   },
   "source": [
    "### Sentiment Prediction"
   ]
  },
  {
   "cell_type": "markdown",
   "metadata": {
    "id": "xImNz7uBpio-"
   },
   "source": [
    "Sentiment is a description of an emotion conveyed in text: *negative, neutral or positive.*\n",
    "\n",
    "We can analyse the sentiment of the text with the handy library called **transformers**.\n",
    "\n",
    "We will use pre-trained model BERT, which have been trained on large corpuses of text (such as Wikipedia and Twitter)."
   ]
  },
  {
   "cell_type": "code",
   "execution_count": null,
   "metadata": {},
   "outputs": [],
   "source": [
    "!pip install -qq transformers\n",
    "!pip install torch torchvision"
   ]
  },
  {
   "cell_type": "markdown",
   "metadata": {
    "id": "Ji71YB2B4E4V"
   },
   "source": [
    "The download will take some time as the model is large sized."
   ]
  },
  {
   "cell_type": "code",
   "execution_count": 38,
   "metadata": {
    "colab": {
     "base_uri": "https://localhost:8080/",
     "height": 264,
     "referenced_widgets": [
      "49d00c06d92a4a63871b6e0e0cbe43bd",
      "621b38ff7c054caa88daab65f5e195f0",
      "2ea548028d424565996f03903958a38f",
      "fa088a89cb6b47b39844637a78a45129",
      "9d30ebb4425b4f9bb3f8e56c62cc1cbd",
      "8b15042103c0459fb3cb6149ee5c4fb3",
      "d382f391617b4e72948366f4804db632",
      "6b1059d4ae7b49ca837136f773041c1f",
      "893d8d4cd9b64fc19df38d1c6f7e1609",
      "dd6af4e850924272addcd14a332c21c2",
      "8f314b0d0dee4a1fbbf0fbcfa7ee2116",
      "721becfd9bba41c7a57f7b89415d8f82",
      "24dd8b3b60d944b1b541b6f2e2a02d70",
      "a50c2a178e704e179b72a4785deec55d",
      "72d85d507975425d9c871db23457913f",
      "ce0147d3ce5747398ebd0de9692e3ec1",
      "5a7f72689ede4f6ab4c51fd6d90cde54",
      "be1350addc964ce280315b2d6699c3a2",
      "c7190b6426684af28c5005e0c5f562c0",
      "5909e81abf2a4d3db88b40ae5b17c333",
      "190094042ce64cc5ba462d84ce7530c3",
      "62f611b84aa64fd78bc31d061cdd3639",
      "b7b0c95a113046c7abb5be89c3a4d32c",
      "6febb437f1e64bcd9baaf3dff5766eb5",
      "8b0a8e832f014fa48e6edbb413ddc82d",
      "881eba8f2ea042e1aee68a5697bc63be",
      "1ce58614df5b48d28cb29bb7b21f6f4b",
      "80cac0937f004e3fa4e4571f5893b575",
      "bd748ca1bb494f03ab9f34c4a3c67907",
      "dbd8d8a0d2dd482db255db0864c7ab82",
      "99f20e71f41546809821ba6f7c119395",
      "612ef37754b04d7b91f926b814fb46bd",
      "32fd1a51b9484827941497dfd443b4a8",
      "4f252a715aa845debd007ae7e967f7a8",
      "3e0ef7f01bf5485e88046793adba54e7",
      "b9e8b98af22c45eb8eb4ee1d55572e7a",
      "d27e806c95a340a687b075c598db1710",
      "6d08f8b51ca24a62b5810e87d4e14933",
      "57cdf73b4b8e433b9fb661f2bc05d6c8",
      "f827b0e480784705aae1f6dd5cb045ac"
     ]
    },
    "id": "w7EP5V8ApbkE",
    "outputId": "2314ed8f-fcb7-443e-dc65-76c456057da7"
   },
   "outputs": [],
   "source": [
    "from transformers import pipeline\n",
    "classifier = pipeline('sentiment-analysis', model='nlptown/bert-base-multilingual-uncased-sentiment')"
   ]
  },
  {
   "cell_type": "markdown",
   "metadata": {
    "id": "p2irhOjxp1ss"
   },
   "source": [
    "Let's look at couple of examples:"
   ]
  },
  {
   "cell_type": "code",
   "execution_count": 39,
   "metadata": {
    "colab": {
     "base_uri": "https://localhost:8080/"
    },
    "id": "T4NM1Dnjp0x8",
    "outputId": "34e3919e-f3cd-4c6c-d136-6fd827195a3f"
   },
   "outputs": [
    {
     "data": {
      "text/plain": [
       "[{'label': '5 stars', 'score': 0.7009514570236206}]"
      ]
     },
     "execution_count": 39,
     "metadata": {},
     "output_type": "execute_result"
    }
   ],
   "source": [
    "classifier('the year has been excellent for the company')"
   ]
  },
  {
   "cell_type": "code",
   "execution_count": 40,
   "metadata": {
    "colab": {
     "base_uri": "https://localhost:8080/"
    },
    "id": "555MEJxfp_w5",
    "outputId": "7fffd478-38b0-4e87-84ac-9e2acb6b21be"
   },
   "outputs": [
    {
     "data": {
      "text/plain": [
       "[{'label': '1 star', 'score': 0.6066980361938477}]"
      ]
     },
     "execution_count": 40,
     "metadata": {},
     "output_type": "execute_result"
    }
   ],
   "source": [
    "classifier('the company is on the verge of bankruptcy')"
   ]
  },
  {
   "cell_type": "code",
   "execution_count": 41,
   "metadata": {
    "colab": {
     "base_uri": "https://localhost:8080/"
    },
    "id": "4fd9hNbU57g0",
    "outputId": "d92dd039-bdbc-4c3c-e94e-7568f213cb02"
   },
   "outputs": [
    {
     "data": {
      "text/plain": [
       "[{'label': '3 stars', 'score': 0.2177804708480835}]"
      ]
     },
     "execution_count": 41,
     "metadata": {},
     "output_type": "execute_result"
    }
   ],
   "source": [
    "classifier('the ceo arrived early')"
   ]
  },
  {
   "cell_type": "markdown",
   "metadata": {
    "id": "g4Fxi-sBySW3"
   },
   "source": [
    "How to extract **only** the label information from the list above?"
   ]
  },
  {
   "cell_type": "code",
   "execution_count": 42,
   "metadata": {
    "colab": {
     "base_uri": "https://localhost:8080/"
    },
    "id": "qSJhS9hyyRWP",
    "outputId": "c1c897f1-4a07-4144-a3a5-ce7755e92f64"
   },
   "outputs": [
    {
     "name": "stdout",
     "output_type": "stream",
     "text": [
      "5 stars\n",
      "3 stars\n",
      "1 star\n"
     ]
    }
   ],
   "source": [
    "# with indexing and method get() of dictionary\n",
    "print(classifier('the year has been excellent for the company')[0].get('label'))\n",
    "print(classifier('the ceo arrived early')[0].get('label'))\n",
    "print(classifier('the company is on the verge of bankruptcy')[0].get('label'))"
   ]
  },
  {
   "cell_type": "markdown",
   "metadata": {
    "id": "zCF8KZGG4auu"
   },
   "source": [
    "1-2 stars stand for negative, 3 stars stand for neutral, 4-5 stars stand for positive.\n",
    "\n",
    "Let's write a function to convert from stars to labels."
   ]
  },
  {
   "cell_type": "code",
   "execution_count": 43,
   "metadata": {
    "id": "1qwitD0C4aA7"
   },
   "outputs": [],
   "source": [
    "def stars_to_labels(text, classifier=classifier):\n",
    "    stars = int(classifier(text)[0].get('label')[0])\n",
    "    if stars in (1,2):\n",
    "        return 'negative'\n",
    "    elif stars in (4,5):\n",
    "        return 'positive'\n",
    "    else:\n",
    "        return 'neutral'"
   ]
  },
  {
   "cell_type": "code",
   "execution_count": 44,
   "metadata": {
    "colab": {
     "base_uri": "https://localhost:8080/",
     "height": 34
    },
    "id": "srVKD2w5_qZ-",
    "outputId": "ddedd97b-718c-48d0-f154-4325ada91df2"
   },
   "outputs": [
    {
     "data": {
      "text/plain": [
       "'positive'"
      ]
     },
     "execution_count": 44,
     "metadata": {},
     "output_type": "execute_result"
    }
   ],
   "source": [
    "stars_to_labels('the year has been excellent for the company')"
   ]
  },
  {
   "cell_type": "code",
   "execution_count": 45,
   "metadata": {
    "colab": {
     "base_uri": "https://localhost:8080/",
     "height": 34
    },
    "id": "nGvIdDWFAeZs",
    "outputId": "bc970830-39cd-4223-8935-d7000995d3b6"
   },
   "outputs": [
    {
     "data": {
      "text/plain": [
       "'negative'"
      ]
     },
     "execution_count": 45,
     "metadata": {},
     "output_type": "execute_result"
    }
   ],
   "source": [
    "stars_to_labels('the company is on the verge of bankruptcy')"
   ]
  },
  {
   "cell_type": "code",
   "execution_count": 46,
   "metadata": {
    "colab": {
     "base_uri": "https://localhost:8080/",
     "height": 34
    },
    "id": "kgRIhQJVHSpG",
    "outputId": "03f4fbda-ae44-4f65-98a4-8cddccf172e3"
   },
   "outputs": [
    {
     "data": {
      "text/plain": [
       "'neutral'"
      ]
     },
     "execution_count": 46,
     "metadata": {},
     "output_type": "execute_result"
    }
   ],
   "source": [
    "stars_to_labels('the ceo arrived early')"
   ]
  },
  {
   "cell_type": "markdown",
   "metadata": {
    "id": "p-LzOPdVArZQ"
   },
   "source": [
    "Now let's apply classifier to our text.\n",
    "\n",
    "Since the sentences are split into separate words we can analyze them individually and aggregate the sentiment for the whole sentence.\n",
    "\n",
    "Example:"
   ]
  },
  {
   "cell_type": "code",
   "execution_count": 47,
   "metadata": {
    "colab": {
     "base_uri": "https://localhost:8080/"
    },
    "id": "ey7eJTqAApVa",
    "outputId": "de3604fc-fd1a-4152-8ff4-dd83a22b8e67",
    "scrolled": true
   },
   "outputs": [
    {
     "data": {
      "text/plain": [
       "['estimate', 'may', 'need', 'come']"
      ]
     },
     "execution_count": 47,
     "metadata": {},
     "output_type": "execute_result"
    }
   ],
   "source": [
    "data[2]"
   ]
  },
  {
   "cell_type": "code",
   "execution_count": 48,
   "metadata": {
    "colab": {
     "base_uri": "https://localhost:8080/"
    },
    "id": "Jbngok8kCpYe",
    "outputId": "7f30577c-fe3a-4d37-96ba-336b323cfd08"
   },
   "outputs": [
    {
     "data": {
      "text/plain": [
       "[{'label': '3 stars', 'score': 0.279747873544693},\n",
       " {'label': '3 stars', 'score': 0.2907038629055023},\n",
       " {'label': '5 stars', 'score': 0.39724329113960266},\n",
       " {'label': '5 stars', 'score': 0.6161982417106628}]"
      ]
     },
     "execution_count": 48,
     "metadata": {},
     "output_type": "execute_result"
    }
   ],
   "source": [
    "classifier(data[2])"
   ]
  },
  {
   "cell_type": "code",
   "execution_count": 49,
   "metadata": {
    "colab": {
     "base_uri": "https://localhost:8080/"
    },
    "id": "nfGxKq65E7QT",
    "outputId": "db301913-50ec-4619-9394-c4a40527e9c9"
   },
   "outputs": [
    {
     "name": "stdout",
     "output_type": "stream",
     "text": [
      "Aggregate sentiment = 4.0\n"
     ]
    }
   ],
   "source": [
    "def get_aggregate_sentiment(my_data, classifier=classifier):\n",
    "    stars = []\n",
    "    for i in my_data:\n",
    "        stars.append(int(classifier(i)[0].get('label')[0]))\n",
    "    return sum(stars) / len(stars)\n",
    "\n",
    "print('Aggregate sentiment =', get_aggregate_sentiment(my_data=data[2]))"
   ]
  },
  {
   "cell_type": "markdown",
   "metadata": {
    "id": "WAfC-PpLE7rZ"
   },
   "source": [
    "However results of this approach can be misleading.\n",
    "Compare it with the following example, when we analyze the whole sentence:"
   ]
  },
  {
   "cell_type": "code",
   "execution_count": 50,
   "metadata": {
    "colab": {
     "base_uri": "https://localhost:8080/"
    },
    "id": "JEw97MueCtgs",
    "outputId": "6151d49f-502f-4e1c-c9ac-e537e5c8ca58"
   },
   "outputs": [
    {
     "data": {
      "text/plain": [
       "[{'label': '3 stars', 'score': 0.41549915075302124}]"
      ]
     },
     "execution_count": 50,
     "metadata": {},
     "output_type": "execute_result"
    }
   ],
   "source": [
    "classifier('estimate may need come')"
   ]
  },
  {
   "cell_type": "markdown",
   "metadata": {
    "id": "mRhzRHwcGZ46"
   },
   "source": [
    "The meaning is closer to neutral than to positive."
   ]
  },
  {
   "cell_type": "markdown",
   "metadata": {
    "id": "kI5XplztFGFh"
   },
   "source": [
    "So, in order to reduce the inaccuracy, we will combine pre-produced words back into sentences and then apply the classifier."
   ]
  },
  {
   "cell_type": "code",
   "execution_count": null,
   "metadata": {
    "colab": {
     "base_uri": "https://localhost:8080/"
    },
    "id": "D466z1koGqgL",
    "outputId": "24dcb65d-8204-412f-a4b4-c11f608b013d"
   },
   "outputs": [],
   "source": [
    "clean_data = []\n",
    "for sentence in data:\n",
    "    clean_data.append(\" \".join(sentence))\n",
    "\n",
    "clean_data"
   ]
  },
  {
   "cell_type": "code",
   "execution_count": 52,
   "metadata": {
    "id": "LBu21ztaxtOW"
   },
   "outputs": [],
   "source": [
    "new_dct = {}\n",
    "for i in clean_data:\n",
    "    sentiment = stars_to_labels(i)\n",
    "    new_dct[i] = sentiment"
   ]
  },
  {
   "cell_type": "code",
   "execution_count": null,
   "metadata": {
    "colab": {
     "base_uri": "https://localhost:8080/"
    },
    "id": "oVK6j5RRyAAt",
    "outputId": "86f23e8f-b0b3-403f-909e-f68918a9b37b"
   },
   "outputs": [],
   "source": [
    "new_dct"
   ]
  },
  {
   "cell_type": "markdown",
   "metadata": {
    "id": "QEHvyWsTFaoi"
   },
   "source": [
    "Combine it into dataframe for convenience:"
   ]
  },
  {
   "cell_type": "code",
   "execution_count": 54,
   "metadata": {
    "colab": {
     "base_uri": "https://localhost:8080/",
     "height": 682
    },
    "id": "sAwZ5sJCMssb",
    "outputId": "99bd035e-9b4b-440e-d49f-c18c6c8c5a7a"
   },
   "outputs": [
    {
     "data": {
      "text/html": [
       "<div>\n",
       "<style scoped>\n",
       "    .dataframe tbody tr th:only-of-type {\n",
       "        vertical-align: middle;\n",
       "    }\n",
       "\n",
       "    .dataframe tbody tr th {\n",
       "        vertical-align: top;\n",
       "    }\n",
       "\n",
       "    .dataframe thead th {\n",
       "        text-align: right;\n",
       "    }\n",
       "</style>\n",
       "<table border=\"1\" class=\"dataframe\">\n",
       "  <thead>\n",
       "    <tr style=\"text-align: right;\">\n",
       "      <th></th>\n",
       "      <th>Sentence</th>\n",
       "      <th>Score</th>\n",
       "    </tr>\n",
       "  </thead>\n",
       "  <tbody>\n",
       "    <tr>\n",
       "      <th>0</th>\n",
       "      <td>apple aapl stock fallen recent high however st...</td>\n",
       "      <td>negative</td>\n",
       "    </tr>\n",
       "    <tr>\n",
       "      <th>1</th>\n",
       "      <td>could one reason option trader betting stock d...</td>\n",
       "      <td>negative</td>\n",
       "    </tr>\n",
       "    <tr>\n",
       "      <th>2</th>\n",
       "      <td>estimate may need come</td>\n",
       "      <td>neutral</td>\n",
       "    </tr>\n",
       "    <tr>\n",
       "      <th>3</th>\n",
       "      <td>currently analyst see earnings falling fiscal ...</td>\n",
       "      <td>negative</td>\n",
       "    </tr>\n",
       "    <tr>\n",
       "      <th>4</th>\n",
       "      <td>despite uncertainty stock currently trading hi...</td>\n",
       "      <td>neutral</td>\n",
       "    </tr>\n",
       "  </tbody>\n",
       "</table>\n",
       "</div>"
      ],
      "text/plain": [
       "                                            Sentence     Score\n",
       "0  apple aapl stock fallen recent high however st...  negative\n",
       "1  could one reason option trader betting stock d...  negative\n",
       "2                             estimate may need come   neutral\n",
       "3  currently analyst see earnings falling fiscal ...  negative\n",
       "4  despite uncertainty stock currently trading hi...   neutral"
      ]
     },
     "execution_count": 54,
     "metadata": {},
     "output_type": "execute_result"
    }
   ],
   "source": [
    "df = pd.DataFrame(new_dct.items(), columns=['Sentence', 'Score'])\n",
    "df.head()"
   ]
  },
  {
   "cell_type": "markdown",
   "metadata": {
    "id": "mCWUi2v5Nyr1"
   },
   "source": [
    "Let's get aggregate sentiment for the article:"
   ]
  },
  {
   "cell_type": "code",
   "execution_count": 55,
   "metadata": {},
   "outputs": [
    {
     "data": {
      "text/plain": [
       "negative    10\n",
       "neutral      4\n",
       "positive     1\n",
       "Name: Score, dtype: int64"
      ]
     },
     "execution_count": 55,
     "metadata": {},
     "output_type": "execute_result"
    }
   ],
   "source": [
    "df['Score'].value_counts()"
   ]
  },
  {
   "cell_type": "code",
   "execution_count": 56,
   "metadata": {
    "colab": {
     "base_uri": "https://localhost:8080/"
    },
    "id": "EAk-WZM3N2zm",
    "outputId": "a0f88e98-ce7a-4163-a65e-e2d8e9f68eb0"
   },
   "outputs": [
    {
     "data": {
      "text/plain": [
       "negative    0.666667\n",
       "neutral     0.266667\n",
       "positive    0.066667\n",
       "Name: Score, dtype: float64"
      ]
     },
     "execution_count": 56,
     "metadata": {},
     "output_type": "execute_result"
    }
   ],
   "source": [
    "df['Score'].value_counts(normalize=True)"
   ]
  },
  {
   "cell_type": "markdown",
   "metadata": {
    "id": "HYcJOYeFOB8d"
   },
   "source": [
    "What can we assume about this article?"
   ]
  },
  {
   "cell_type": "markdown",
   "metadata": {
    "id": "Y-zIP1cSjZCI"
   },
   "source": [
    "### Visualisations"
   ]
  },
  {
   "cell_type": "code",
   "execution_count": 57,
   "metadata": {
    "id": "WNFgCXgHwL7a"
   },
   "outputs": [],
   "source": [
    "from wordcloud import WordCloud\n",
    "from PIL import Image"
   ]
  },
  {
   "cell_type": "markdown",
   "metadata": {
    "id": "zcTuI7F2rHmU"
   },
   "source": [
    "It's time to visualise our pre-processed data!\n",
    "\n"
   ]
  },
  {
   "cell_type": "markdown",
   "metadata": {
    "id": "itdTI0GkSHyp"
   },
   "source": [
    "##### Distribution of length of sentences"
   ]
  },
  {
   "cell_type": "code",
   "execution_count": 58,
   "metadata": {
    "colab": {
     "base_uri": "https://localhost:8080/"
    },
    "id": "KmKoP8bFrGuB",
    "outputId": "7071ff0f-1e05-48cc-d355-c680dfa6b005"
   },
   "outputs": [
    {
     "data": {
      "text/plain": [
       "[60, 28, 4, 52, 36, 3, 41, 19, 2, 2, 49, 27, 43, 19, 59]"
      ]
     },
     "execution_count": 58,
     "metadata": {},
     "output_type": "execute_result"
    }
   ],
   "source": [
    "# distribution of length of sentences\n",
    "lengths = []\n",
    "\n",
    "for sentence in data:\n",
    "    lengths.append(len(sentence))\n",
    "\n",
    "lengths  "
   ]
  },
  {
   "cell_type": "code",
   "execution_count": 63,
   "metadata": {
    "colab": {
     "base_uri": "https://localhost:8080/",
     "height": 625
    },
    "id": "_7NhmP-MPL3f",
    "outputId": "7bdb6ca4-535c-4966-c559-18c072dc49f3"
   },
   "outputs": [
    {
     "data": {
      "image/png": "[encoded data removed]",
      "text/plain": [
       "<Figure size 576x360 with 1 Axes>"
      ]
     },
     "metadata": {
      "needs_background": "light"
     },
     "output_type": "display_data"
    }
   ],
   "source": [
    "plt.figure(figsize=(8,5))\n",
    "fig = sns.histplot(lengths, bins=5)\n",
    "fig.set_title('Distribution of lengths of sentences')\n",
    "fig.set_xlabel('Length')\n",
    "fig.set_ylabel('Number of sentences');"
   ]
  },
  {
   "cell_type": "markdown",
   "metadata": {
    "id": "Jbf_NSbvym_R"
   },
   "source": [
    "Which lengths occur most often?"
   ]
  },
  {
   "cell_type": "markdown",
   "metadata": {
    "id": "TJ4fcS-ESMnA"
   },
   "source": [
    "##### Word Cloud"
   ]
  },
  {
   "cell_type": "markdown",
   "metadata": {
    "id": "q1i5XWjYTE5F"
   },
   "source": [
    "Word Cloud is a visual representation of most frequent words in a text. The size of the word in a cloud depends on its' frequency.\n",
    "\n",
    "We will combine our text into one long sentence, since the model works with strings, not lists."
   ]
  },
  {
   "cell_type": "code",
   "execution_count": 67,
   "metadata": {
    "colab": {
     "base_uri": "https://localhost:8080/",
     "height": 190
    },
    "id": "ZwLvAjrwS1jO",
    "outputId": "7c00fbc0-9f6d-4334-c489-ff656fec6308"
   },
   "outputs": [
    {
     "data": {
      "text/plain": [
       "' apple aapl stock fallen recent high however stock may risk dropping plenty catalyst could trigger d'"
      ]
     },
     "execution_count": 67,
     "metadata": {},
     "output_type": "execute_result"
    }
   ],
   "source": [
    "res = \" \"\n",
    "for i in data:\n",
    "    res +=  \" \".join([x for x in i])\n",
    "    \n",
    "res[:100]"
   ]
  },
  {
   "cell_type": "code",
   "execution_count": 68,
   "metadata": {
    "colab": {
     "base_uri": "https://localhost:8080/",
     "height": 366
    },
    "id": "fbuwvhLxv2zw",
    "outputId": "ae40e03d-82d7-4e93-def4-e5f4eb7f3913"
   },
   "outputs": [
    {
     "data": {
      "image/png": "[encoded data removed]",
      "text/plain": [
       "<Figure size 864x576 with 1 Axes>"
      ]
     },
     "metadata": {
      "needs_background": "light"
     },
     "output_type": "display_data"
    }
   ],
   "source": [
    "# word-cloud (most frequent words)\n",
    "wordcloud = WordCloud(max_font_size=50, max_words=100, background_color=\"white\").generate(res)\n",
    "plt.figure(figsize=(12,8))\n",
    "plt.imshow(wordcloud, interpolation=\"bilinear\")\n",
    "plt.axis(\"off\")\n",
    "plt.show()"
   ]
  },
  {
   "cell_type": "markdown",
   "metadata": {
    "id": "HilcAV6QRkLI"
   },
   "source": [
    "\n",
    "\n",
    "*   What are the most frequent words?\n",
    "*   Compare the sentiment of the most frequent words with the aggregate sentiment of the article. \n",
    "\n"
   ]
  },
  {
   "cell_type": "markdown",
   "metadata": {
    "id": "aMEbdQkeSQ6z"
   },
   "source": [
    "##### Bigrams and trigrams"
   ]
  },
  {
   "cell_type": "markdown",
   "metadata": {
    "id": "joLTEX_QUl2G"
   },
   "source": [
    "Let's count the occurence of bigrams (word pairs) and trigrams (three words in a row) in a sentence. \n",
    "\n",
    "We will work with the original text to preserve some information which could be omitted during pre-processing."
   ]
  },
  {
   "cell_type": "code",
   "execution_count": 69,
   "metadata": {
    "id": "txlBd-abViTR"
   },
   "outputs": [],
   "source": [
    "original_text = article.text.split('\\n\\n')"
   ]
  },
  {
   "cell_type": "code",
   "execution_count": 70,
   "metadata": {
    "id": "lhkMOSpZVFAN"
   },
   "outputs": [],
   "source": [
    "from sklearn.feature_extraction.text import CountVectorizer"
   ]
  },
  {
   "cell_type": "code",
   "execution_count": 71,
   "metadata": {
    "id": "2liK6M_RUylr"
   },
   "outputs": [],
   "source": [
    "def get_top_n_bigram(corpus, n=None):\n",
    "    vec = CountVectorizer(ngram_range=(2, 2)).fit(corpus)\n",
    "    bag_of_words = vec.transform(corpus)\n",
    "    sum_words = bag_of_words.sum(axis=0) \n",
    "    words_freq = [(word, sum_words[0, idx]) for word, idx in vec.vocabulary_.items()]\n",
    "    words_freq =sorted(words_freq, key = lambda x: x[1], reverse=True)\n",
    "    return words_freq[:n]\n",
    "\n",
    "\n",
    "def get_top_n_trigram(corpus, n=None):\n",
    "    vec = CountVectorizer(ngram_range=(3, 3)).fit(corpus)\n",
    "    bag_of_words = vec.transform(corpus)\n",
    "    sum_words = bag_of_words.sum(axis=0) \n",
    "    words_freq = [(word, sum_words[0, idx]) for word, idx in vec.vocabulary_.items()]\n",
    "    words_freq =sorted(words_freq, key = lambda x: x[1], reverse=True)\n",
    "    return words_freq[:n]"
   ]
  },
  {
   "cell_type": "code",
   "execution_count": 72,
   "metadata": {
    "colab": {
     "base_uri": "https://localhost:8080/"
    },
    "id": "Qg3UcMMfU9Cu",
    "outputId": "3a4f4acd-254c-4af2-d978-0176d2b0fde8"
   },
   "outputs": [
    {
     "data": {
      "text/plain": [
       "[('the stock', 11),\n",
       " ('in the', 8),\n",
       " ('for the', 5),\n",
       " ('that the', 4),\n",
       " ('by about', 4),\n",
       " ('stock is', 4),\n",
       " ('the company', 3),\n",
       " ('on oct', 3),\n",
       " ('first quarter', 3),\n",
       " ('estimates may', 3),\n",
       " ('it could', 3),\n",
       " ('could be', 3),\n",
       " ('to come', 3),\n",
       " ('this article', 3),\n",
       " ('the market', 3)]"
      ]
     },
     "execution_count": 72,
     "metadata": {},
     "output_type": "execute_result"
    }
   ],
   "source": [
    "bigrams = get_top_n_bigram(original_text, 15)\n",
    "bigrams"
   ]
  },
  {
   "cell_type": "code",
   "execution_count": 73,
   "metadata": {
    "colab": {
     "base_uri": "https://localhost:8080/"
    },
    "id": "gQemJFbIWQRa",
    "outputId": "8df5ca97-68c8-4c83-a005-8d6997d30b78"
   },
   "outputs": [
    {
     "data": {
      "text/plain": [
       "[('the stock is', 3),\n",
       " ('the end of', 2),\n",
       " ('its fiscal first', 2),\n",
       " ('fiscal first quarter', 2),\n",
       " ('however if the', 2),\n",
       " ('it could be', 2),\n",
       " ('could be one', 2),\n",
       " ('be one reason', 2),\n",
       " ('one reason why', 2),\n",
       " ('options traders are', 2),\n",
       " ('traders are betting', 2),\n",
       " ('are betting that', 2),\n",
       " ('that the stock', 2),\n",
       " ('estimates may need', 2),\n",
       " ('may need to', 2)]"
      ]
     },
     "execution_count": 73,
     "metadata": {},
     "output_type": "execute_result"
    }
   ],
   "source": [
    "trigrams = get_top_n_trigram(original_text, 15)\n",
    "trigrams"
   ]
  },
  {
   "cell_type": "code",
   "execution_count": 74,
   "metadata": {
    "colab": {
     "base_uri": "https://localhost:8080/",
     "height": 509
    },
    "id": "irFdds7Iv6Y0",
    "outputId": "fccccbf9-bd9a-41e9-cc61-1eabf4e0e140"
   },
   "outputs": [
    {
     "data": {
      "text/html": [
       "<div>\n",
       "<style scoped>\n",
       "    .dataframe tbody tr th:only-of-type {\n",
       "        vertical-align: middle;\n",
       "    }\n",
       "\n",
       "    .dataframe tbody tr th {\n",
       "        vertical-align: top;\n",
       "    }\n",
       "\n",
       "    .dataframe thead th {\n",
       "        text-align: right;\n",
       "    }\n",
       "</style>\n",
       "<table border=\"1\" class=\"dataframe\">\n",
       "  <thead>\n",
       "    <tr style=\"text-align: right;\">\n",
       "      <th></th>\n",
       "      <th>Bigram</th>\n",
       "      <th>Frequency</th>\n",
       "    </tr>\n",
       "  </thead>\n",
       "  <tbody>\n",
       "    <tr>\n",
       "      <th>0</th>\n",
       "      <td>the stock</td>\n",
       "      <td>11</td>\n",
       "    </tr>\n",
       "    <tr>\n",
       "      <th>1</th>\n",
       "      <td>in the</td>\n",
       "      <td>8</td>\n",
       "    </tr>\n",
       "    <tr>\n",
       "      <th>2</th>\n",
       "      <td>for the</td>\n",
       "      <td>5</td>\n",
       "    </tr>\n",
       "    <tr>\n",
       "      <th>3</th>\n",
       "      <td>that the</td>\n",
       "      <td>4</td>\n",
       "    </tr>\n",
       "    <tr>\n",
       "      <th>4</th>\n",
       "      <td>by about</td>\n",
       "      <td>4</td>\n",
       "    </tr>\n",
       "    <tr>\n",
       "      <th>5</th>\n",
       "      <td>stock is</td>\n",
       "      <td>4</td>\n",
       "    </tr>\n",
       "    <tr>\n",
       "      <th>6</th>\n",
       "      <td>the company</td>\n",
       "      <td>3</td>\n",
       "    </tr>\n",
       "    <tr>\n",
       "      <th>7</th>\n",
       "      <td>on oct</td>\n",
       "      <td>3</td>\n",
       "    </tr>\n",
       "    <tr>\n",
       "      <th>8</th>\n",
       "      <td>first quarter</td>\n",
       "      <td>3</td>\n",
       "    </tr>\n",
       "    <tr>\n",
       "      <th>9</th>\n",
       "      <td>estimates may</td>\n",
       "      <td>3</td>\n",
       "    </tr>\n",
       "    <tr>\n",
       "      <th>10</th>\n",
       "      <td>it could</td>\n",
       "      <td>3</td>\n",
       "    </tr>\n",
       "    <tr>\n",
       "      <th>11</th>\n",
       "      <td>could be</td>\n",
       "      <td>3</td>\n",
       "    </tr>\n",
       "    <tr>\n",
       "      <th>12</th>\n",
       "      <td>to come</td>\n",
       "      <td>3</td>\n",
       "    </tr>\n",
       "    <tr>\n",
       "      <th>13</th>\n",
       "      <td>this article</td>\n",
       "      <td>3</td>\n",
       "    </tr>\n",
       "    <tr>\n",
       "      <th>14</th>\n",
       "      <td>the market</td>\n",
       "      <td>3</td>\n",
       "    </tr>\n",
       "  </tbody>\n",
       "</table>\n",
       "</div>"
      ],
      "text/plain": [
       "           Bigram  Frequency\n",
       "0       the stock         11\n",
       "1          in the          8\n",
       "2         for the          5\n",
       "3        that the          4\n",
       "4        by about          4\n",
       "5        stock is          4\n",
       "6     the company          3\n",
       "7          on oct          3\n",
       "8   first quarter          3\n",
       "9   estimates may          3\n",
       "10       it could          3\n",
       "11       could be          3\n",
       "12        to come          3\n",
       "13   this article          3\n",
       "14     the market          3"
      ]
     },
     "execution_count": 74,
     "metadata": {},
     "output_type": "execute_result"
    }
   ],
   "source": [
    "# most frequent word pairs \n",
    "df1 = pd.DataFrame(bigrams, columns = ['Bigram' , 'Frequency'])\n",
    "df1"
   ]
  },
  {
   "cell_type": "code",
   "execution_count": 75,
   "metadata": {
    "colab": {
     "base_uri": "https://localhost:8080/",
     "height": 697
    },
    "id": "_7DxRmy8ZmpF",
    "outputId": "6e498e9f-7412-4793-a14a-ea3992440283"
   },
   "outputs": [
    {
     "data": {
      "image/png": "[encoded data removed]",
      "text/plain": [
       "<Figure size 1080x720 with 1 Axes>"
      ]
     },
     "metadata": {
      "needs_background": "light"
     },
     "output_type": "display_data"
    }
   ],
   "source": [
    "bar = df1.plot.bar(x='Bigram', y='Frequency', rot=45, legend=None, width=0.5, figsize=(15,10));\n",
    "bar.set_title('Most common bigrams');\n"
   ]
  },
  {
   "cell_type": "markdown",
   "metadata": {
    "id": "SFB3q_plRg6r"
   },
   "source": [
    "*   What are the top-3 word bigrams?"
   ]
  },
  {
   "cell_type": "code",
   "execution_count": 76,
   "metadata": {
    "colab": {
     "base_uri": "https://localhost:8080/",
     "height": 509
    },
    "id": "28ysepE4W5wQ",
    "outputId": "68f8b0b6-2fb8-4cd2-c92e-f94e657fbb1b"
   },
   "outputs": [
    {
     "data": {
      "text/html": [
       "<div>\n",
       "<style scoped>\n",
       "    .dataframe tbody tr th:only-of-type {\n",
       "        vertical-align: middle;\n",
       "    }\n",
       "\n",
       "    .dataframe tbody tr th {\n",
       "        vertical-align: top;\n",
       "    }\n",
       "\n",
       "    .dataframe thead th {\n",
       "        text-align: right;\n",
       "    }\n",
       "</style>\n",
       "<table border=\"1\" class=\"dataframe\">\n",
       "  <thead>\n",
       "    <tr style=\"text-align: right;\">\n",
       "      <th></th>\n",
       "      <th>Trigrams</th>\n",
       "      <th>Frequency</th>\n",
       "    </tr>\n",
       "  </thead>\n",
       "  <tbody>\n",
       "    <tr>\n",
       "      <th>0</th>\n",
       "      <td>the stock is</td>\n",
       "      <td>3</td>\n",
       "    </tr>\n",
       "    <tr>\n",
       "      <th>1</th>\n",
       "      <td>the end of</td>\n",
       "      <td>2</td>\n",
       "    </tr>\n",
       "    <tr>\n",
       "      <th>2</th>\n",
       "      <td>its fiscal first</td>\n",
       "      <td>2</td>\n",
       "    </tr>\n",
       "    <tr>\n",
       "      <th>3</th>\n",
       "      <td>fiscal first quarter</td>\n",
       "      <td>2</td>\n",
       "    </tr>\n",
       "    <tr>\n",
       "      <th>4</th>\n",
       "      <td>however if the</td>\n",
       "      <td>2</td>\n",
       "    </tr>\n",
       "    <tr>\n",
       "      <th>5</th>\n",
       "      <td>it could be</td>\n",
       "      <td>2</td>\n",
       "    </tr>\n",
       "    <tr>\n",
       "      <th>6</th>\n",
       "      <td>could be one</td>\n",
       "      <td>2</td>\n",
       "    </tr>\n",
       "    <tr>\n",
       "      <th>7</th>\n",
       "      <td>be one reason</td>\n",
       "      <td>2</td>\n",
       "    </tr>\n",
       "    <tr>\n",
       "      <th>8</th>\n",
       "      <td>one reason why</td>\n",
       "      <td>2</td>\n",
       "    </tr>\n",
       "    <tr>\n",
       "      <th>9</th>\n",
       "      <td>options traders are</td>\n",
       "      <td>2</td>\n",
       "    </tr>\n",
       "    <tr>\n",
       "      <th>10</th>\n",
       "      <td>traders are betting</td>\n",
       "      <td>2</td>\n",
       "    </tr>\n",
       "    <tr>\n",
       "      <th>11</th>\n",
       "      <td>are betting that</td>\n",
       "      <td>2</td>\n",
       "    </tr>\n",
       "    <tr>\n",
       "      <th>12</th>\n",
       "      <td>that the stock</td>\n",
       "      <td>2</td>\n",
       "    </tr>\n",
       "    <tr>\n",
       "      <th>13</th>\n",
       "      <td>estimates may need</td>\n",
       "      <td>2</td>\n",
       "    </tr>\n",
       "    <tr>\n",
       "      <th>14</th>\n",
       "      <td>may need to</td>\n",
       "      <td>2</td>\n",
       "    </tr>\n",
       "  </tbody>\n",
       "</table>\n",
       "</div>"
      ],
      "text/plain": [
       "                Trigrams  Frequency\n",
       "0           the stock is          3\n",
       "1             the end of          2\n",
       "2       its fiscal first          2\n",
       "3   fiscal first quarter          2\n",
       "4         however if the          2\n",
       "5            it could be          2\n",
       "6           could be one          2\n",
       "7          be one reason          2\n",
       "8         one reason why          2\n",
       "9    options traders are          2\n",
       "10   traders are betting          2\n",
       "11      are betting that          2\n",
       "12        that the stock          2\n",
       "13    estimates may need          2\n",
       "14           may need to          2"
      ]
     },
     "execution_count": 76,
     "metadata": {},
     "output_type": "execute_result"
    }
   ],
   "source": [
    "# most frequent trigrams \n",
    "df2 = pd.DataFrame(trigrams, columns = ['Trigrams' , 'Frequency'])\n",
    "df2"
   ]
  },
  {
   "cell_type": "code",
   "execution_count": 77,
   "metadata": {
    "colab": {
     "base_uri": "https://localhost:8080/",
     "height": 724
    },
    "id": "AFHDeaQKaDBq",
    "outputId": "cf79a70e-71d8-4726-9127-acb95e815c2c"
   },
   "outputs": [
    {
     "data": {
      "image/png": "[encoded data removed]",
      "text/plain": [
       "<Figure size 1080x720 with 1 Axes>"
      ]
     },
     "metadata": {
      "needs_background": "light"
     },
     "output_type": "display_data"
    }
   ],
   "source": [
    "bar2 = df2.plot.bar(x='Trigrams', y='Frequency', rot=45, legend=None, width=0.5, figsize=(15,10));\n",
    "bar2.set_title('Most common trigrams');\n"
   ]
  },
  {
   "cell_type": "markdown",
   "metadata": {
    "id": "BvqX25q6cNct"
   },
   "source": [
    "*   What are the top-3 trigrams?"
   ]
  },
  {
   "cell_type": "markdown",
   "metadata": {},
   "source": [
    "Recommended materials:\n",
    "* [Kaggle. Sentiment Analysis on Financial News](https://www.kaggle.com/mmmarchetti/sentiment-analysis-on-financial-news)\n",
    "* [Sentiment Analysis of Stocks from Financial News using Python](https://towardsdatascience.com/sentiment-analysis-of-stocks-from-financial-news-using-python-82ebdcefb638)"
   ]
  },
  {
   "cell_type": "code",
   "execution_count": null,
   "metadata": {},
   "outputs": [],
   "source": []
  }
 ],
 "metadata": {
  "colab": {
   "collapsed_sections": [],
   "name": "Copy of TextAnalysis.ipynb",
   "provenance": [],
   "toc_visible": true
  },
  "kernelspec": {
   "display_name": "Python 3",
   "language": "python",
   "name": "python3"
  },
  "language_info": {
   "codemirror_mode": {
    "name": "ipython",
    "version": 3
   },
   "file_extension": ".py",
   "mimetype": "text/x-python",
   "name": "python",
   "nbconvert_exporter": "python",
   "pygments_lexer": "ipython3",
   "version": "3.8.3"
  },
  "widgets": {
   "application/vnd.jupyter.widget-state+json": {
    "190094042ce64cc5ba462d84ce7530c3": {
     "model_module": "@jupyter-widgets/controls",
     "model_name": "ProgressStyleModel",
     "state": {
      "_model_module": "@jupyter-widgets/controls",
      "_model_module_version": "1.5.0",
      "_model_name": "ProgressStyleModel",
      "_view_count": null,
      "_view_module": "@jupyter-widgets/base",
      "_view_module_version": "1.2.0",
      "_view_name": "StyleView",
      "bar_color": null,
      "description_width": "initial"
     }
    },
    "1ce58614df5b48d28cb29bb7b21f6f4b": {
     "model_module": "@jupyter-widgets/controls",
     "model_name": "FloatProgressModel",
     "state": {
      "_dom_classes": [],
      "_model_module": "@jupyter-widgets/controls",
      "_model_module_version": "1.5.0",
      "_model_name": "FloatProgressModel",
      "_view_count": null,
      "_view_module": "@jupyter-widgets/controls",
      "_view_module_version": "1.5.0",
      "_view_name": "ProgressView",
      "bar_style": "success",
      "description": "Downloading: 100%",
      "description_tooltip": null,
      "layout": "IPY_MODEL_dbd8d8a0d2dd482db255db0864c7ab82",
      "max": 39,
      "min": 0,
      "orientation": "horizontal",
      "style": "IPY_MODEL_bd748ca1bb494f03ab9f34c4a3c67907",
      "value": 39
     }
    },
    "24dd8b3b60d944b1b541b6f2e2a02d70": {
     "model_module": "@jupyter-widgets/controls",
     "model_name": "ProgressStyleModel",
     "state": {
      "_model_module": "@jupyter-widgets/controls",
      "_model_module_version": "1.5.0",
      "_model_name": "ProgressStyleModel",
      "_view_count": null,
      "_view_module": "@jupyter-widgets/base",
      "_view_module_version": "1.2.0",
      "_view_name": "StyleView",
      "bar_color": null,
      "description_width": "initial"
     }
    },
    "2ea548028d424565996f03903958a38f": {
     "model_module": "@jupyter-widgets/controls",
     "model_name": "FloatProgressModel",
     "state": {
      "_dom_classes": [],
      "_model_module": "@jupyter-widgets/controls",
      "_model_module_version": "1.5.0",
      "_model_name": "FloatProgressModel",
      "_view_count": null,
      "_view_module": "@jupyter-widgets/controls",
      "_view_module_version": "1.5.0",
      "_view_name": "ProgressView",
      "bar_style": "success",
      "description": "Downloading: 100%",
      "description_tooltip": null,
      "layout": "IPY_MODEL_8b15042103c0459fb3cb6149ee5c4fb3",
      "max": 953,
      "min": 0,
      "orientation": "horizontal",
      "style": "IPY_MODEL_9d30ebb4425b4f9bb3f8e56c62cc1cbd",
      "value": 953
     }
    },
    "32fd1a51b9484827941497dfd443b4a8": {
     "model_module": "@jupyter-widgets/controls",
     "model_name": "HBoxModel",
     "state": {
      "_dom_classes": [],
      "_model_module": "@jupyter-widgets/controls",
      "_model_module_version": "1.5.0",
      "_model_name": "HBoxModel",
      "_view_count": null,
      "_view_module": "@jupyter-widgets/controls",
      "_view_module_version": "1.5.0",
      "_view_name": "HBoxView",
      "box_style": "",
      "children": [
       "IPY_MODEL_3e0ef7f01bf5485e88046793adba54e7",
       "IPY_MODEL_b9e8b98af22c45eb8eb4ee1d55572e7a"
      ],
      "layout": "IPY_MODEL_4f252a715aa845debd007ae7e967f7a8"
     }
    },
    "3e0ef7f01bf5485e88046793adba54e7": {
     "model_module": "@jupyter-widgets/controls",
     "model_name": "FloatProgressModel",
     "state": {
      "_dom_classes": [],
      "_model_module": "@jupyter-widgets/controls",
      "_model_module_version": "1.5.0",
      "_model_name": "FloatProgressModel",
      "_view_count": null,
      "_view_module": "@jupyter-widgets/controls",
      "_view_module_version": "1.5.0",
      "_view_name": "ProgressView",
      "bar_style": "success",
      "description": "Downloading: 100%",
      "description_tooltip": null,
      "layout": "IPY_MODEL_6d08f8b51ca24a62b5810e87d4e14933",
      "max": 669491321,
      "min": 0,
      "orientation": "horizontal",
      "style": "IPY_MODEL_d27e806c95a340a687b075c598db1710",
      "value": 669491321
     }
    },
    "49d00c06d92a4a63871b6e0e0cbe43bd": {
     "model_module": "@jupyter-widgets/controls",
     "model_name": "HBoxModel",
     "state": {
      "_dom_classes": [],
      "_model_module": "@jupyter-widgets/controls",
      "_model_module_version": "1.5.0",
      "_model_name": "HBoxModel",
      "_view_count": null,
      "_view_module": "@jupyter-widgets/controls",
      "_view_module_version": "1.5.0",
      "_view_name": "HBoxView",
      "box_style": "",
      "children": [
       "IPY_MODEL_2ea548028d424565996f03903958a38f",
       "IPY_MODEL_fa088a89cb6b47b39844637a78a45129"
      ],
      "layout": "IPY_MODEL_621b38ff7c054caa88daab65f5e195f0"
     }
    },
    "4f252a715aa845debd007ae7e967f7a8": {
     "model_module": "@jupyter-widgets/base",
     "model_name": "LayoutModel",
     "state": {
      "_model_module": "@jupyter-widgets/base",
      "_model_module_version": "1.2.0",
      "_model_name": "LayoutModel",
      "_view_count": null,
      "_view_module": "@jupyter-widgets/base",
      "_view_module_version": "1.2.0",
      "_view_name": "LayoutView",
      "align_content": null,
      "align_items": null,
      "align_self": null,
      "border": null,
      "bottom": null,
      "display": null,
      "flex": null,
      "flex_flow": null,
      "grid_area": null,
      "grid_auto_columns": null,
      "grid_auto_flow": null,
      "grid_auto_rows": null,
      "grid_column": null,
      "grid_gap": null,
      "grid_row": null,
      "grid_template_areas": null,
      "grid_template_columns": null,
      "grid_template_rows": null,
      "height": null,
      "justify_content": null,
      "justify_items": null,
      "left": null,
      "margin": null,
      "max_height": null,
      "max_width": null,
      "min_height": null,
      "min_width": null,
      "object_fit": null,
      "object_position": null,
      "order": null,
      "overflow": null,
      "overflow_x": null,
      "overflow_y": null,
      "padding": null,
      "right": null,
      "top": null,
      "visibility": null,
      "width": null
     }
    },
    "57cdf73b4b8e433b9fb661f2bc05d6c8": {
     "model_module": "@jupyter-widgets/controls",
     "model_name": "DescriptionStyleModel",
     "state": {
      "_model_module": "@jupyter-widgets/controls",
      "_model_module_version": "1.5.0",
      "_model_name": "DescriptionStyleModel",
      "_view_count": null,
      "_view_module": "@jupyter-widgets/base",
      "_view_module_version": "1.2.0",
      "_view_name": "StyleView",
      "description_width": ""
     }
    },
    "5909e81abf2a4d3db88b40ae5b17c333": {
     "model_module": "@jupyter-widgets/controls",
     "model_name": "HTMLModel",
     "state": {
      "_dom_classes": [],
      "_model_module": "@jupyter-widgets/controls",
      "_model_module_version": "1.5.0",
      "_model_name": "HTMLModel",
      "_view_count": null,
      "_view_module": "@jupyter-widgets/controls",
      "_view_module_version": "1.5.0",
      "_view_name": "HTMLView",
      "description": "",
      "description_tooltip": null,
      "layout": "IPY_MODEL_6febb437f1e64bcd9baaf3dff5766eb5",
      "placeholder": "​",
      "style": "IPY_MODEL_b7b0c95a113046c7abb5be89c3a4d32c",
      "value": " 112/112 [00:00&lt;00:00, 238B/s]"
     }
    },
    "5a7f72689ede4f6ab4c51fd6d90cde54": {
     "model_module": "@jupyter-widgets/controls",
     "model_name": "HBoxModel",
     "state": {
      "_dom_classes": [],
      "_model_module": "@jupyter-widgets/controls",
      "_model_module_version": "1.5.0",
      "_model_name": "HBoxModel",
      "_view_count": null,
      "_view_module": "@jupyter-widgets/controls",
      "_view_module_version": "1.5.0",
      "_view_name": "HBoxView",
      "box_style": "",
      "children": [
       "IPY_MODEL_c7190b6426684af28c5005e0c5f562c0",
       "IPY_MODEL_5909e81abf2a4d3db88b40ae5b17c333"
      ],
      "layout": "IPY_MODEL_be1350addc964ce280315b2d6699c3a2"
     }
    },
    "612ef37754b04d7b91f926b814fb46bd": {
     "model_module": "@jupyter-widgets/base",
     "model_name": "LayoutModel",
     "state": {
      "_model_module": "@jupyter-widgets/base",
      "_model_module_version": "1.2.0",
      "_model_name": "LayoutModel",
      "_view_count": null,
      "_view_module": "@jupyter-widgets/base",
      "_view_module_version": "1.2.0",
      "_view_name": "LayoutView",
      "align_content": null,
      "align_items": null,
      "align_self": null,
      "border": null,
      "bottom": null,
      "display": null,
      "flex": null,
      "flex_flow": null,
      "grid_area": null,
      "grid_auto_columns": null,
      "grid_auto_flow": null,
      "grid_auto_rows": null,
      "grid_column": null,
      "grid_gap": null,
      "grid_row": null,
      "grid_template_areas": null,
      "grid_template_columns": null,
      "grid_template_rows": null,
      "height": null,
      "justify_content": null,
      "justify_items": null,
      "left": null,
      "margin": null,
      "max_height": null,
      "max_width": null,
      "min_height": null,
      "min_width": null,
      "object_fit": null,
      "object_position": null,
      "order": null,
      "overflow": null,
      "overflow_x": null,
      "overflow_y": null,
      "padding": null,
      "right": null,
      "top": null,
      "visibility": null,
      "width": null
     }
    },
    "621b38ff7c054caa88daab65f5e195f0": {
     "model_module": "@jupyter-widgets/base",
     "model_name": "LayoutModel",
     "state": {
      "_model_module": "@jupyter-widgets/base",
      "_model_module_version": "1.2.0",
      "_model_name": "LayoutModel",
      "_view_count": null,
      "_view_module": "@jupyter-widgets/base",
      "_view_module_version": "1.2.0",
      "_view_name": "LayoutView",
      "align_content": null,
      "align_items": null,
      "align_self": null,
      "border": null,
      "bottom": null,
      "display": null,
      "flex": null,
      "flex_flow": null,
      "grid_area": null,
      "grid_auto_columns": null,
      "grid_auto_flow": null,
      "grid_auto_rows": null,
      "grid_column": null,
      "grid_gap": null,
      "grid_row": null,
      "grid_template_areas": null,
      "grid_template_columns": null,
      "grid_template_rows": null,
      "height": null,
      "justify_content": null,
      "justify_items": null,
      "left": null,
      "margin": null,
      "max_height": null,
      "max_width": null,
      "min_height": null,
      "min_width": null,
      "object_fit": null,
      "object_position": null,
      "order": null,
      "overflow": null,
      "overflow_x": null,
      "overflow_y": null,
      "padding": null,
      "right": null,
      "top": null,
      "visibility": null,
      "width": null
     }
    },
    "62f611b84aa64fd78bc31d061cdd3639": {
     "model_module": "@jupyter-widgets/base",
     "model_name": "LayoutModel",
     "state": {
      "_model_module": "@jupyter-widgets/base",
      "_model_module_version": "1.2.0",
      "_model_name": "LayoutModel",
      "_view_count": null,
      "_view_module": "@jupyter-widgets/base",
      "_view_module_version": "1.2.0",
      "_view_name": "LayoutView",
      "align_content": null,
      "align_items": null,
      "align_self": null,
      "border": null,
      "bottom": null,
      "display": null,
      "flex": null,
      "flex_flow": null,
      "grid_area": null,
      "grid_auto_columns": null,
      "grid_auto_flow": null,
      "grid_auto_rows": null,
      "grid_column": null,
      "grid_gap": null,
      "grid_row": null,
      "grid_template_areas": null,
      "grid_template_columns": null,
      "grid_template_rows": null,
      "height": null,
      "justify_content": null,
      "justify_items": null,
      "left": null,
      "margin": null,
      "max_height": null,
      "max_width": null,
      "min_height": null,
      "min_width": null,
      "object_fit": null,
      "object_position": null,
      "order": null,
      "overflow": null,
      "overflow_x": null,
      "overflow_y": null,
      "padding": null,
      "right": null,
      "top": null,
      "visibility": null,
      "width": null
     }
    },
    "6b1059d4ae7b49ca837136f773041c1f": {
     "model_module": "@jupyter-widgets/base",
     "model_name": "LayoutModel",
     "state": {
      "_model_module": "@jupyter-widgets/base",
      "_model_module_version": "1.2.0",
      "_model_name": "LayoutModel",
      "_view_count": null,
      "_view_module": "@jupyter-widgets/base",
      "_view_module_version": "1.2.0",
      "_view_name": "LayoutView",
      "align_content": null,
      "align_items": null,
      "align_self": null,
      "border": null,
      "bottom": null,
      "display": null,
      "flex": null,
      "flex_flow": null,
      "grid_area": null,
      "grid_auto_columns": null,
      "grid_auto_flow": null,
      "grid_auto_rows": null,
      "grid_column": null,
      "grid_gap": null,
      "grid_row": null,
      "grid_template_areas": null,
      "grid_template_columns": null,
      "grid_template_rows": null,
      "height": null,
      "justify_content": null,
      "justify_items": null,
      "left": null,
      "margin": null,
      "max_height": null,
      "max_width": null,
      "min_height": null,
      "min_width": null,
      "object_fit": null,
      "object_position": null,
      "order": null,
      "overflow": null,
      "overflow_x": null,
      "overflow_y": null,
      "padding": null,
      "right": null,
      "top": null,
      "visibility": null,
      "width": null
     }
    },
    "6d08f8b51ca24a62b5810e87d4e14933": {
     "model_module": "@jupyter-widgets/base",
     "model_name": "LayoutModel",
     "state": {
      "_model_module": "@jupyter-widgets/base",
      "_model_module_version": "1.2.0",
      "_model_name": "LayoutModel",
      "_view_count": null,
      "_view_module": "@jupyter-widgets/base",
      "_view_module_version": "1.2.0",
      "_view_name": "LayoutView",
      "align_content": null,
      "align_items": null,
      "align_self": null,
      "border": null,
      "bottom": null,
      "display": null,
      "flex": null,
      "flex_flow": null,
      "grid_area": null,
      "grid_auto_columns": null,
      "grid_auto_flow": null,
      "grid_auto_rows": null,
      "grid_column": null,
      "grid_gap": null,
      "grid_row": null,
      "grid_template_areas": null,
      "grid_template_columns": null,
      "grid_template_rows": null,
      "height": null,
      "justify_content": null,
      "justify_items": null,
      "left": null,
      "margin": null,
      "max_height": null,
      "max_width": null,
      "min_height": null,
      "min_width": null,
      "object_fit": null,
      "object_position": null,
      "order": null,
      "overflow": null,
      "overflow_x": null,
      "overflow_y": null,
      "padding": null,
      "right": null,
      "top": null,
      "visibility": null,
      "width": null
     }
    },
    "6febb437f1e64bcd9baaf3dff5766eb5": {
     "model_module": "@jupyter-widgets/base",
     "model_name": "LayoutModel",
     "state": {
      "_model_module": "@jupyter-widgets/base",
      "_model_module_version": "1.2.0",
      "_model_name": "LayoutModel",
      "_view_count": null,
      "_view_module": "@jupyter-widgets/base",
      "_view_module_version": "1.2.0",
      "_view_name": "LayoutView",
      "align_content": null,
      "align_items": null,
      "align_self": null,
      "border": null,
      "bottom": null,
      "display": null,
      "flex": null,
      "flex_flow": null,
      "grid_area": null,
      "grid_auto_columns": null,
      "grid_auto_flow": null,
      "grid_auto_rows": null,
      "grid_column": null,
      "grid_gap": null,
      "grid_row": null,
      "grid_template_areas": null,
      "grid_template_columns": null,
      "grid_template_rows": null,
      "height": null,
      "justify_content": null,
      "justify_items": null,
      "left": null,
      "margin": null,
      "max_height": null,
      "max_width": null,
      "min_height": null,
      "min_width": null,
      "object_fit": null,
      "object_position": null,
      "order": null,
      "overflow": null,
      "overflow_x": null,
      "overflow_y": null,
      "padding": null,
      "right": null,
      "top": null,
      "visibility": null,
      "width": null
     }
    },
    "721becfd9bba41c7a57f7b89415d8f82": {
     "model_module": "@jupyter-widgets/controls",
     "model_name": "HTMLModel",
     "state": {
      "_dom_classes": [],
      "_model_module": "@jupyter-widgets/controls",
      "_model_module_version": "1.5.0",
      "_model_name": "HTMLModel",
      "_view_count": null,
      "_view_module": "@jupyter-widgets/controls",
      "_view_module_version": "1.5.0",
      "_view_name": "HTMLView",
      "description": "",
      "description_tooltip": null,
      "layout": "IPY_MODEL_ce0147d3ce5747398ebd0de9692e3ec1",
      "placeholder": "​",
      "style": "IPY_MODEL_72d85d507975425d9c871db23457913f",
      "value": " 872k/872k [00:00&lt;00:00, 990kB/s]"
     }
    },
    "72d85d507975425d9c871db23457913f": {
     "model_module": "@jupyter-widgets/controls",
     "model_name": "DescriptionStyleModel",
     "state": {
      "_model_module": "@jupyter-widgets/controls",
      "_model_module_version": "1.5.0",
      "_model_name": "DescriptionStyleModel",
      "_view_count": null,
      "_view_module": "@jupyter-widgets/base",
      "_view_module_version": "1.2.0",
      "_view_name": "StyleView",
      "description_width": ""
     }
    },
    "80cac0937f004e3fa4e4571f5893b575": {
     "model_module": "@jupyter-widgets/controls",
     "model_name": "HTMLModel",
     "state": {
      "_dom_classes": [],
      "_model_module": "@jupyter-widgets/controls",
      "_model_module_version": "1.5.0",
      "_model_name": "HTMLModel",
      "_view_count": null,
      "_view_module": "@jupyter-widgets/controls",
      "_view_module_version": "1.5.0",
      "_view_name": "HTMLView",
      "description": "",
      "description_tooltip": null,
      "layout": "IPY_MODEL_612ef37754b04d7b91f926b814fb46bd",
      "placeholder": "​",
      "style": "IPY_MODEL_99f20e71f41546809821ba6f7c119395",
      "value": " 39.0/39.0 [00:00&lt;00:00, 150B/s]"
     }
    },
    "881eba8f2ea042e1aee68a5697bc63be": {
     "model_module": "@jupyter-widgets/base",
     "model_name": "LayoutModel",
     "state": {
      "_model_module": "@jupyter-widgets/base",
      "_model_module_version": "1.2.0",
      "_model_name": "LayoutModel",
      "_view_count": null,
      "_view_module": "@jupyter-widgets/base",
      "_view_module_version": "1.2.0",
      "_view_name": "LayoutView",
      "align_content": null,
      "align_items": null,
      "align_self": null,
      "border": null,
      "bottom": null,
      "display": null,
      "flex": null,
      "flex_flow": null,
      "grid_area": null,
      "grid_auto_columns": null,
      "grid_auto_flow": null,
      "grid_auto_rows": null,
      "grid_column": null,
      "grid_gap": null,
      "grid_row": null,
      "grid_template_areas": null,
      "grid_template_columns": null,
      "grid_template_rows": null,
      "height": null,
      "justify_content": null,
      "justify_items": null,
      "left": null,
      "margin": null,
      "max_height": null,
      "max_width": null,
      "min_height": null,
      "min_width": null,
      "object_fit": null,
      "object_position": null,
      "order": null,
      "overflow": null,
      "overflow_x": null,
      "overflow_y": null,
      "padding": null,
      "right": null,
      "top": null,
      "visibility": null,
      "width": null
     }
    },
    "893d8d4cd9b64fc19df38d1c6f7e1609": {
     "model_module": "@jupyter-widgets/controls",
     "model_name": "HBoxModel",
     "state": {
      "_dom_classes": [],
      "_model_module": "@jupyter-widgets/controls",
      "_model_module_version": "1.5.0",
      "_model_name": "HBoxModel",
      "_view_count": null,
      "_view_module": "@jupyter-widgets/controls",
      "_view_module_version": "1.5.0",
      "_view_name": "HBoxView",
      "box_style": "",
      "children": [
       "IPY_MODEL_8f314b0d0dee4a1fbbf0fbcfa7ee2116",
       "IPY_MODEL_721becfd9bba41c7a57f7b89415d8f82"
      ],
      "layout": "IPY_MODEL_dd6af4e850924272addcd14a332c21c2"
     }
    },
    "8b0a8e832f014fa48e6edbb413ddc82d": {
     "model_module": "@jupyter-widgets/controls",
     "model_name": "HBoxModel",
     "state": {
      "_dom_classes": [],
      "_model_module": "@jupyter-widgets/controls",
      "_model_module_version": "1.5.0",
      "_model_name": "HBoxModel",
      "_view_count": null,
      "_view_module": "@jupyter-widgets/controls",
      "_view_module_version": "1.5.0",
      "_view_name": "HBoxView",
      "box_style": "",
      "children": [
       "IPY_MODEL_1ce58614df5b48d28cb29bb7b21f6f4b",
       "IPY_MODEL_80cac0937f004e3fa4e4571f5893b575"
      ],
      "layout": "IPY_MODEL_881eba8f2ea042e1aee68a5697bc63be"
     }
    },
    "8b15042103c0459fb3cb6149ee5c4fb3": {
     "model_module": "@jupyter-widgets/base",
     "model_name": "LayoutModel",
     "state": {
      "_model_module": "@jupyter-widgets/base",
      "_model_module_version": "1.2.0",
      "_model_name": "LayoutModel",
      "_view_count": null,
      "_view_module": "@jupyter-widgets/base",
      "_view_module_version": "1.2.0",
      "_view_name": "LayoutView",
      "align_content": null,
      "align_items": null,
      "align_self": null,
      "border": null,
      "bottom": null,
      "display": null,
      "flex": null,
      "flex_flow": null,
      "grid_area": null,
      "grid_auto_columns": null,
      "grid_auto_flow": null,
      "grid_auto_rows": null,
      "grid_column": null,
      "grid_gap": null,
      "grid_row": null,
      "grid_template_areas": null,
      "grid_template_columns": null,
      "grid_template_rows": null,
      "height": null,
      "justify_content": null,
      "justify_items": null,
      "left": null,
      "margin": null,
      "max_height": null,
      "max_width": null,
      "min_height": null,
      "min_width": null,
      "object_fit": null,
      "object_position": null,
      "order": null,
      "overflow": null,
      "overflow_x": null,
      "overflow_y": null,
      "padding": null,
      "right": null,
      "top": null,
      "visibility": null,
      "width": null
     }
    },
    "8f314b0d0dee4a1fbbf0fbcfa7ee2116": {
     "model_module": "@jupyter-widgets/controls",
     "model_name": "FloatProgressModel",
     "state": {
      "_dom_classes": [],
      "_model_module": "@jupyter-widgets/controls",
      "_model_module_version": "1.5.0",
      "_model_name": "FloatProgressModel",
      "_view_count": null,
      "_view_module": "@jupyter-widgets/controls",
      "_view_module_version": "1.5.0",
      "_view_name": "ProgressView",
      "bar_style": "success",
      "description": "Downloading: 100%",
      "description_tooltip": null,
      "layout": "IPY_MODEL_a50c2a178e704e179b72a4785deec55d",
      "max": 871891,
      "min": 0,
      "orientation": "horizontal",
      "style": "IPY_MODEL_24dd8b3b60d944b1b541b6f2e2a02d70",
      "value": 871891
     }
    },
    "99f20e71f41546809821ba6f7c119395": {
     "model_module": "@jupyter-widgets/controls",
     "model_name": "DescriptionStyleModel",
     "state": {
      "_model_module": "@jupyter-widgets/controls",
      "_model_module_version": "1.5.0",
      "_model_name": "DescriptionStyleModel",
      "_view_count": null,
      "_view_module": "@jupyter-widgets/base",
      "_view_module_version": "1.2.0",
      "_view_name": "StyleView",
      "description_width": ""
     }
    },
    "9d30ebb4425b4f9bb3f8e56c62cc1cbd": {
     "model_module": "@jupyter-widgets/controls",
     "model_name": "ProgressStyleModel",
     "state": {
      "_model_module": "@jupyter-widgets/controls",
      "_model_module_version": "1.5.0",
      "_model_name": "ProgressStyleModel",
      "_view_count": null,
      "_view_module": "@jupyter-widgets/base",
      "_view_module_version": "1.2.0",
      "_view_name": "StyleView",
      "bar_color": null,
      "description_width": "initial"
     }
    },
    "a50c2a178e704e179b72a4785deec55d": {
     "model_module": "@jupyter-widgets/base",
     "model_name": "LayoutModel",
     "state": {
      "_model_module": "@jupyter-widgets/base",
      "_model_module_version": "1.2.0",
      "_model_name": "LayoutModel",
      "_view_count": null,
      "_view_module": "@jupyter-widgets/base",
      "_view_module_version": "1.2.0",
      "_view_name": "LayoutView",
      "align_content": null,
      "align_items": null,
      "align_self": null,
      "border": null,
      "bottom": null,
      "display": null,
      "flex": null,
      "flex_flow": null,
      "grid_area": null,
      "grid_auto_columns": null,
      "grid_auto_flow": null,
      "grid_auto_rows": null,
      "grid_column": null,
      "grid_gap": null,
      "grid_row": null,
      "grid_template_areas": null,
      "grid_template_columns": null,
      "grid_template_rows": null,
      "height": null,
      "justify_content": null,
      "justify_items": null,
      "left": null,
      "margin": null,
      "max_height": null,
      "max_width": null,
      "min_height": null,
      "min_width": null,
      "object_fit": null,
      "object_position": null,
      "order": null,
      "overflow": null,
      "overflow_x": null,
      "overflow_y": null,
      "padding": null,
      "right": null,
      "top": null,
      "visibility": null,
      "width": null
     }
    },
    "b7b0c95a113046c7abb5be89c3a4d32c": {
     "model_module": "@jupyter-widgets/controls",
     "model_name": "DescriptionStyleModel",
     "state": {
      "_model_module": "@jupyter-widgets/controls",
      "_model_module_version": "1.5.0",
      "_model_name": "DescriptionStyleModel",
      "_view_count": null,
      "_view_module": "@jupyter-widgets/base",
      "_view_module_version": "1.2.0",
      "_view_name": "StyleView",
      "description_width": ""
     }
    },
    "b9e8b98af22c45eb8eb4ee1d55572e7a": {
     "model_module": "@jupyter-widgets/controls",
     "model_name": "HTMLModel",
     "state": {
      "_dom_classes": [],
      "_model_module": "@jupyter-widgets/controls",
      "_model_module_version": "1.5.0",
      "_model_name": "HTMLModel",
      "_view_count": null,
      "_view_module": "@jupyter-widgets/controls",
      "_view_module_version": "1.5.0",
      "_view_name": "HTMLView",
      "description": "",
      "description_tooltip": null,
      "layout": "IPY_MODEL_f827b0e480784705aae1f6dd5cb045ac",
      "placeholder": "​",
      "style": "IPY_MODEL_57cdf73b4b8e433b9fb661f2bc05d6c8",
      "value": " 669M/669M [00:30&lt;00:00, 22.2MB/s]"
     }
    },
    "bd748ca1bb494f03ab9f34c4a3c67907": {
     "model_module": "@jupyter-widgets/controls",
     "model_name": "ProgressStyleModel",
     "state": {
      "_model_module": "@jupyter-widgets/controls",
      "_model_module_version": "1.5.0",
      "_model_name": "ProgressStyleModel",
      "_view_count": null,
      "_view_module": "@jupyter-widgets/base",
      "_view_module_version": "1.2.0",
      "_view_name": "StyleView",
      "bar_color": null,
      "description_width": "initial"
     }
    },
    "be1350addc964ce280315b2d6699c3a2": {
     "model_module": "@jupyter-widgets/base",
     "model_name": "LayoutModel",
     "state": {
      "_model_module": "@jupyter-widgets/base",
      "_model_module_version": "1.2.0",
      "_model_name": "LayoutModel",
      "_view_count": null,
      "_view_module": "@jupyter-widgets/base",
      "_view_module_version": "1.2.0",
      "_view_name": "LayoutView",
      "align_content": null,
      "align_items": null,
      "align_self": null,
      "border": null,
      "bottom": null,
      "display": null,
      "flex": null,
      "flex_flow": null,
      "grid_area": null,
      "grid_auto_columns": null,
      "grid_auto_flow": null,
      "grid_auto_rows": null,
      "grid_column": null,
      "grid_gap": null,
      "grid_row": null,
      "grid_template_areas": null,
      "grid_template_columns": null,
      "grid_template_rows": null,
      "height": null,
      "justify_content": null,
      "justify_items": null,
      "left": null,
      "margin": null,
      "max_height": null,
      "max_width": null,
      "min_height": null,
      "min_width": null,
      "object_fit": null,
      "object_position": null,
      "order": null,
      "overflow": null,
      "overflow_x": null,
      "overflow_y": null,
      "padding": null,
      "right": null,
      "top": null,
      "visibility": null,
      "width": null
     }
    },
    "c7190b6426684af28c5005e0c5f562c0": {
     "model_module": "@jupyter-widgets/controls",
     "model_name": "FloatProgressModel",
     "state": {
      "_dom_classes": [],
      "_model_module": "@jupyter-widgets/controls",
      "_model_module_version": "1.5.0",
      "_model_name": "FloatProgressModel",
      "_view_count": null,
      "_view_module": "@jupyter-widgets/controls",
      "_view_module_version": "1.5.0",
      "_view_name": "ProgressView",
      "bar_style": "success",
      "description": "Downloading: 100%",
      "description_tooltip": null,
      "layout": "IPY_MODEL_62f611b84aa64fd78bc31d061cdd3639",
      "max": 112,
      "min": 0,
      "orientation": "horizontal",
      "style": "IPY_MODEL_190094042ce64cc5ba462d84ce7530c3",
      "value": 112
     }
    },
    "ce0147d3ce5747398ebd0de9692e3ec1": {
     "model_module": "@jupyter-widgets/base",
     "model_name": "LayoutModel",
     "state": {
      "_model_module": "@jupyter-widgets/base",
      "_model_module_version": "1.2.0",
      "_model_name": "LayoutModel",
      "_view_count": null,
      "_view_module": "@jupyter-widgets/base",
      "_view_module_version": "1.2.0",
      "_view_name": "LayoutView",
      "align_content": null,
      "align_items": null,
      "align_self": null,
      "border": null,
      "bottom": null,
      "display": null,
      "flex": null,
      "flex_flow": null,
      "grid_area": null,
      "grid_auto_columns": null,
      "grid_auto_flow": null,
      "grid_auto_rows": null,
      "grid_column": null,
      "grid_gap": null,
      "grid_row": null,
      "grid_template_areas": null,
      "grid_template_columns": null,
      "grid_template_rows": null,
      "height": null,
      "justify_content": null,
      "justify_items": null,
      "left": null,
      "margin": null,
      "max_height": null,
      "max_width": null,
      "min_height": null,
      "min_width": null,
      "object_fit": null,
      "object_position": null,
      "order": null,
      "overflow": null,
      "overflow_x": null,
      "overflow_y": null,
      "padding": null,
      "right": null,
      "top": null,
      "visibility": null,
      "width": null
     }
    },
    "d27e806c95a340a687b075c598db1710": {
     "model_module": "@jupyter-widgets/controls",
     "model_name": "ProgressStyleModel",
     "state": {
      "_model_module": "@jupyter-widgets/controls",
      "_model_module_version": "1.5.0",
      "_model_name": "ProgressStyleModel",
      "_view_count": null,
      "_view_module": "@jupyter-widgets/base",
      "_view_module_version": "1.2.0",
      "_view_name": "StyleView",
      "bar_color": null,
      "description_width": "initial"
     }
    },
    "d382f391617b4e72948366f4804db632": {
     "model_module": "@jupyter-widgets/controls",
     "model_name": "DescriptionStyleModel",
     "state": {
      "_model_module": "@jupyter-widgets/controls",
      "_model_module_version": "1.5.0",
      "_model_name": "DescriptionStyleModel",
      "_view_count": null,
      "_view_module": "@jupyter-widgets/base",
      "_view_module_version": "1.2.0",
      "_view_name": "StyleView",
      "description_width": ""
     }
    },
    "dbd8d8a0d2dd482db255db0864c7ab82": {
     "model_module": "@jupyter-widgets/base",
     "model_name": "LayoutModel",
     "state": {
      "_model_module": "@jupyter-widgets/base",
      "_model_module_version": "1.2.0",
      "_model_name": "LayoutModel",
      "_view_count": null,
      "_view_module": "@jupyter-widgets/base",
      "_view_module_version": "1.2.0",
      "_view_name": "LayoutView",
      "align_content": null,
      "align_items": null,
      "align_self": null,
      "border": null,
      "bottom": null,
      "display": null,
      "flex": null,
      "flex_flow": null,
      "grid_area": null,
      "grid_auto_columns": null,
      "grid_auto_flow": null,
      "grid_auto_rows": null,
      "grid_column": null,
      "grid_gap": null,
      "grid_row": null,
      "grid_template_areas": null,
      "grid_template_columns": null,
      "grid_template_rows": null,
      "height": null,
      "justify_content": null,
      "justify_items": null,
      "left": null,
      "margin": null,
      "max_height": null,
      "max_width": null,
      "min_height": null,
      "min_width": null,
      "object_fit": null,
      "object_position": null,
      "order": null,
      "overflow": null,
      "overflow_x": null,
      "overflow_y": null,
      "padding": null,
      "right": null,
      "top": null,
      "visibility": null,
      "width": null
     }
    },
    "dd6af4e850924272addcd14a332c21c2": {
     "model_module": "@jupyter-widgets/base",
     "model_name": "LayoutModel",
     "state": {
      "_model_module": "@jupyter-widgets/base",
      "_model_module_version": "1.2.0",
      "_model_name": "LayoutModel",
      "_view_count": null,
      "_view_module": "@jupyter-widgets/base",
      "_view_module_version": "1.2.0",
      "_view_name": "LayoutView",
      "align_content": null,
      "align_items": null,
      "align_self": null,
      "border": null,
      "bottom": null,
      "display": null,
      "flex": null,
      "flex_flow": null,
      "grid_area": null,
      "grid_auto_columns": null,
      "grid_auto_flow": null,
      "grid_auto_rows": null,
      "grid_column": null,
      "grid_gap": null,
      "grid_row": null,
      "grid_template_areas": null,
      "grid_template_columns": null,
      "grid_template_rows": null,
      "height": null,
      "justify_content": null,
      "justify_items": null,
      "left": null,
      "margin": null,
      "max_height": null,
      "max_width": null,
      "min_height": null,
      "min_width": null,
      "object_fit": null,
      "object_position": null,
      "order": null,
      "overflow": null,
      "overflow_x": null,
      "overflow_y": null,
      "padding": null,
      "right": null,
      "top": null,
      "visibility": null,
      "width": null
     }
    },
    "f827b0e480784705aae1f6dd5cb045ac": {
     "model_module": "@jupyter-widgets/base",
     "model_name": "LayoutModel",
     "state": {
      "_model_module": "@jupyter-widgets/base",
      "_model_module_version": "1.2.0",
      "_model_name": "LayoutModel",
      "_view_count": null,
      "_view_module": "@jupyter-widgets/base",
      "_view_module_version": "1.2.0",
      "_view_name": "LayoutView",
      "align_content": null,
      "align_items": null,
      "align_self": null,
      "border": null,
      "bottom": null,
      "display": null,
      "flex": null,
      "flex_flow": null,
      "grid_area": null,
      "grid_auto_columns": null,
      "grid_auto_flow": null,
      "grid_auto_rows": null,
      "grid_column": null,
      "grid_gap": null,
      "grid_row": null,
      "grid_template_areas": null,
      "grid_template_columns": null,
      "grid_template_rows": null,
      "height": null,
      "justify_content": null,
      "justify_items": null,
      "left": null,
      "margin": null,
      "max_height": null,
      "max_width": null,
      "min_height": null,
      "min_width": null,
      "object_fit": null,
      "object_position": null,
      "order": null,
      "overflow": null,
      "overflow_x": null,
      "overflow_y": null,
      "padding": null,
      "right": null,
      "top": null,
      "visibility": null,
      "width": null
     }
    },
    "fa088a89cb6b47b39844637a78a45129": {
     "model_module": "@jupyter-widgets/controls",
     "model_name": "HTMLModel",
     "state": {
      "_dom_classes": [],
      "_model_module": "@jupyter-widgets/controls",
      "_model_module_version": "1.5.0",
      "_model_name": "HTMLModel",
      "_view_count": null,
      "_view_module": "@jupyter-widgets/controls",
      "_view_module_version": "1.5.0",
      "_view_name": "HTMLView",
      "description": "",
      "description_tooltip": null,
      "layout": "IPY_MODEL_6b1059d4ae7b49ca837136f773041c1f",
      "placeholder": "​",
      "style": "IPY_MODEL_d382f391617b4e72948366f4804db632",
      "value": " 953/953 [00:00&lt;00:00, 3.30kB/s]"
     }
    }
   }
  }
 },
 "nbformat": 4,
 "nbformat_minor": 1
}
